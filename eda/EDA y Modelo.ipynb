{
 "cells": [
  {
   "cell_type": "code",
   "execution_count": 1,
   "id": "5e3e86df",
   "metadata": {},
   "outputs": [],
   "source": [
    "import pandas as pd \n",
    "import numpy as np \n",
    "import matplotlib.pyplot as plt"
   ]
  },
  {
   "cell_type": "code",
   "execution_count": 2,
   "id": "7c825088",
   "metadata": {
    "scrolled": true
   },
   "outputs": [],
   "source": [
    "df = pd.read_csv('vehiculos-de-segunda-mano-sample.csv')\n",
    "df_provincia = pd.read_csv('Coches010923Completo.csv')"
   ]
  },
  {
   "cell_type": "markdown",
   "id": "d9c83fc0",
   "metadata": {},
   "source": [
    "## EDA"
   ]
  },
  {
   "cell_type": "markdown",
   "id": "db1dc3df",
   "metadata": {},
   "source": [
    "### Echamos un vistazo a nuestro dataframe"
   ]
  },
  {
   "cell_type": "code",
   "execution_count": 3,
   "id": "089ffe1e",
   "metadata": {},
   "outputs": [
    {
     "data": {
      "text/html": [
       "<div>\n",
       "<style scoped>\n",
       "    .dataframe tbody tr th:only-of-type {\n",
       "        vertical-align: middle;\n",
       "    }\n",
       "\n",
       "    .dataframe tbody tr th {\n",
       "        vertical-align: top;\n",
       "    }\n",
       "\n",
       "    .dataframe thead th {\n",
       "        text-align: right;\n",
       "    }\n",
       "</style>\n",
       "<table border=\"1\" class=\"dataframe\">\n",
       "  <thead>\n",
       "    <tr style=\"text-align: right;\">\n",
       "      <th></th>\n",
       "      <th>vehicle_type</th>\n",
       "      <th>make</th>\n",
       "      <th>model</th>\n",
       "      <th>version</th>\n",
       "      <th>fuel</th>\n",
       "      <th>year</th>\n",
       "      <th>kms</th>\n",
       "      <th>power</th>\n",
       "      <th>doors</th>\n",
       "      <th>shift</th>\n",
       "      <th>...</th>\n",
       "      <th>dealer_name</th>\n",
       "      <th>dealer_description</th>\n",
       "      <th>dealer_address</th>\n",
       "      <th>dealer_zip_code</th>\n",
       "      <th>dealer_city</th>\n",
       "      <th>dealer_country_code</th>\n",
       "      <th>dealer_is_professional</th>\n",
       "      <th>dealer_website</th>\n",
       "      <th>dealer_registered_at</th>\n",
       "      <th>date</th>\n",
       "    </tr>\n",
       "  </thead>\n",
       "  <tbody>\n",
       "    <tr>\n",
       "      <th>0</th>\n",
       "      <td>car</td>\n",
       "      <td>Opel</td>\n",
       "      <td>Crossland</td>\n",
       "      <td>1.2 GAS 110 GS Line 5p S/S</td>\n",
       "      <td>Gasolina</td>\n",
       "      <td>2022</td>\n",
       "      <td>5.0</td>\n",
       "      <td>110.0</td>\n",
       "      <td>NaN</td>\n",
       "      <td>manual</td>\n",
       "      <td>...</td>\n",
       "      <td>Sergio Y.</td>\n",
       "      <td>NaN</td>\n",
       "      <td>2, Carrer de Jacint Benavente, Poblenou, Pined...</td>\n",
       "      <td>8397.0</td>\n",
       "      <td>Pineda de Mar</td>\n",
       "      <td>ES</td>\n",
       "      <td>True</td>\n",
       "      <td>www.cocheauto.com</td>\n",
       "      <td>2017-01-18</td>\n",
       "      <td>2023-02-06</td>\n",
       "    </tr>\n",
       "    <tr>\n",
       "      <th>1</th>\n",
       "      <td>car</td>\n",
       "      <td>Opel</td>\n",
       "      <td>Crossland</td>\n",
       "      <td>1.2 81kW (110CV) GS Line</td>\n",
       "      <td>Gasolina</td>\n",
       "      <td>2022</td>\n",
       "      <td>24847.0</td>\n",
       "      <td>110.0</td>\n",
       "      <td>NaN</td>\n",
       "      <td>manual</td>\n",
       "      <td>...</td>\n",
       "      <td>Peugeot Alcala 534</td>\n",
       "      <td>Concesionario Oficial Peugeot Alcalá 534. Disp...</td>\n",
       "      <td>Avenida de José Gárate, Coslada, Área metropol...</td>\n",
       "      <td>28823.0</td>\n",
       "      <td>Coslada</td>\n",
       "      <td>ES</td>\n",
       "      <td>True</td>\n",
       "      <td>www.alcala534.com/es/vehiculos-ocasion</td>\n",
       "      <td>2019-02-15</td>\n",
       "      <td>2023-02-06</td>\n",
       "    </tr>\n",
       "    <tr>\n",
       "      <th>2</th>\n",
       "      <td>car</td>\n",
       "      <td>Opel</td>\n",
       "      <td>Crossland</td>\n",
       "      <td>1.5D 88kW (120CV) Business Elegance Auto</td>\n",
       "      <td>Diésel</td>\n",
       "      <td>2021</td>\n",
       "      <td>41356.0</td>\n",
       "      <td>120.0</td>\n",
       "      <td>NaN</td>\n",
       "      <td>automatic</td>\n",
       "      <td>...</td>\n",
       "      <td>Clicars S.</td>\n",
       "      <td>Nº1 en Europa en venta de coches online. \\nYa ...</td>\n",
       "      <td>San Cristóbal, Avenida de Andalucía, San Crist...</td>\n",
       "      <td>28021.0</td>\n",
       "      <td>Madrid</td>\n",
       "      <td>ES</td>\n",
       "      <td>True</td>\n",
       "      <td>www.clicars.com/</td>\n",
       "      <td>2016-05-09</td>\n",
       "      <td>2023-02-06</td>\n",
       "    </tr>\n",
       "    <tr>\n",
       "      <th>3</th>\n",
       "      <td>car</td>\n",
       "      <td>Opel</td>\n",
       "      <td>Crossland</td>\n",
       "      <td>GS-Line 1.2 GAS MT6 S/S 110cv</td>\n",
       "      <td>Gasolina</td>\n",
       "      <td>2022</td>\n",
       "      <td>11.0</td>\n",
       "      <td>110.0</td>\n",
       "      <td>NaN</td>\n",
       "      <td>manual</td>\n",
       "      <td>...</td>\n",
       "      <td>Vallescar S.</td>\n",
       "      <td>¿QUIERES UN VEHÍCULO HECHO A TU MEDIDA, CON LA...</td>\n",
       "      <td>Parc de Bombers de Sabadell, 52, Carretera de ...</td>\n",
       "      <td>8200.0</td>\n",
       "      <td>Sabadell</td>\n",
       "      <td>ES</td>\n",
       "      <td>True</td>\n",
       "      <td>https://www.vallescarocasion.es/</td>\n",
       "      <td>2019-09-30</td>\n",
       "      <td>2023-02-06</td>\n",
       "    </tr>\n",
       "    <tr>\n",
       "      <th>4</th>\n",
       "      <td>car</td>\n",
       "      <td>Opel</td>\n",
       "      <td>Crossland</td>\n",
       "      <td>GS-Line 1.2 GAS MT6 S/S 110cv</td>\n",
       "      <td>Gasolina</td>\n",
       "      <td>2022</td>\n",
       "      <td>11.0</td>\n",
       "      <td>110.0</td>\n",
       "      <td>NaN</td>\n",
       "      <td>manual</td>\n",
       "      <td>...</td>\n",
       "      <td>Vallescar Ocasion M.</td>\n",
       "      <td>¿QUIERES UN VEHÍCULO HECHO A TU MEDIDA, CON LA...</td>\n",
       "      <td>27, Carrer de Fèlix Ferran, Mollet del Vallès,...</td>\n",
       "      <td>8100.0</td>\n",
       "      <td>Mollet del Vallès</td>\n",
       "      <td>ES</td>\n",
       "      <td>True</td>\n",
       "      <td>https://www.vallescarocasion.es/</td>\n",
       "      <td>2017-04-19</td>\n",
       "      <td>2023-02-06</td>\n",
       "    </tr>\n",
       "  </tbody>\n",
       "</table>\n",
       "<p>5 rows × 28 columns</p>\n",
       "</div>"
      ],
      "text/plain": [
       "  vehicle_type  make      model                                   version  \\\n",
       "0          car  Opel  Crossland                1.2 GAS 110 GS Line 5p S/S   \n",
       "1          car  Opel  Crossland                  1.2 81kW (110CV) GS Line   \n",
       "2          car  Opel  Crossland  1.5D 88kW (120CV) Business Elegance Auto   \n",
       "3          car  Opel  Crossland             GS-Line 1.2 GAS MT6 S/S 110cv   \n",
       "4          car  Opel  Crossland             GS-Line 1.2 GAS MT6 S/S 110cv   \n",
       "\n",
       "       fuel  year      kms  power  doors      shift  ...  \\\n",
       "0  Gasolina  2022      5.0  110.0    NaN     manual  ...   \n",
       "1  Gasolina  2022  24847.0  110.0    NaN     manual  ...   \n",
       "2    Diésel  2021  41356.0  120.0    NaN  automatic  ...   \n",
       "3  Gasolina  2022     11.0  110.0    NaN     manual  ...   \n",
       "4  Gasolina  2022     11.0  110.0    NaN     manual  ...   \n",
       "\n",
       "            dealer_name                                 dealer_description  \\\n",
       "0             Sergio Y.                                                NaN   \n",
       "1    Peugeot Alcala 534  Concesionario Oficial Peugeot Alcalá 534. Disp...   \n",
       "2            Clicars S.  Nº1 en Europa en venta de coches online. \\nYa ...   \n",
       "3          Vallescar S.  ¿QUIERES UN VEHÍCULO HECHO A TU MEDIDA, CON LA...   \n",
       "4  Vallescar Ocasion M.  ¿QUIERES UN VEHÍCULO HECHO A TU MEDIDA, CON LA...   \n",
       "\n",
       "                                      dealer_address  dealer_zip_code  \\\n",
       "0  2, Carrer de Jacint Benavente, Poblenou, Pined...           8397.0   \n",
       "1  Avenida de José Gárate, Coslada, Área metropol...          28823.0   \n",
       "2  San Cristóbal, Avenida de Andalucía, San Crist...          28021.0   \n",
       "3  Parc de Bombers de Sabadell, 52, Carretera de ...           8200.0   \n",
       "4  27, Carrer de Fèlix Ferran, Mollet del Vallès,...           8100.0   \n",
       "\n",
       "         dealer_city dealer_country_code dealer_is_professional  \\\n",
       "0      Pineda de Mar                  ES                   True   \n",
       "1            Coslada                  ES                   True   \n",
       "2             Madrid                  ES                   True   \n",
       "3           Sabadell                  ES                   True   \n",
       "4  Mollet del Vallès                  ES                   True   \n",
       "\n",
       "                           dealer_website dealer_registered_at        date  \n",
       "0                       www.cocheauto.com           2017-01-18  2023-02-06  \n",
       "1  www.alcala534.com/es/vehiculos-ocasion           2019-02-15  2023-02-06  \n",
       "2                        www.clicars.com/           2016-05-09  2023-02-06  \n",
       "3        https://www.vallescarocasion.es/           2019-09-30  2023-02-06  \n",
       "4        https://www.vallescarocasion.es/           2017-04-19  2023-02-06  \n",
       "\n",
       "[5 rows x 28 columns]"
      ]
     },
     "execution_count": 3,
     "metadata": {},
     "output_type": "execute_result"
    }
   ],
   "source": [
    "df.head()"
   ]
  },
  {
   "cell_type": "markdown",
   "id": "e5a4d890",
   "metadata": {},
   "source": [
    "Obtenemos el numero de valores únicos por cada columna"
   ]
  },
  {
   "cell_type": "code",
   "execution_count": 4,
   "id": "5ba68fce",
   "metadata": {},
   "outputs": [
    {
     "data": {
      "text/plain": [
       "vehicle_type                 1\n",
       "make                        66\n",
       "model                      748\n",
       "version                   8658\n",
       "fuel                         4\n",
       "year                        43\n",
       "kms                       6643\n",
       "power                      349\n",
       "doors                        0\n",
       "shift                        2\n",
       "color                        0\n",
       "photos                      10\n",
       "description               6439\n",
       "price                     2665\n",
       "currency                     1\n",
       "location                   669\n",
       "publish_date               424\n",
       "update_date                 38\n",
       "dealer_name               1678\n",
       "dealer_description        1181\n",
       "dealer_address            1675\n",
       "dealer_zip_code            872\n",
       "dealer_city                665\n",
       "dealer_country_code          1\n",
       "dealer_is_professional       1\n",
       "dealer_website             888\n",
       "dealer_registered_at      1177\n",
       "date                        13\n",
       "dtype: int64"
      ]
     },
     "execution_count": 4,
     "metadata": {},
     "output_type": "execute_result"
    }
   ],
   "source": [
    "df.nunique()"
   ]
  },
  {
   "cell_type": "markdown",
   "id": "0204f288",
   "metadata": {},
   "source": [
    "Obtenemos la suma del numero de valores nulos por cada columna"
   ]
  },
  {
   "cell_type": "code",
   "execution_count": 5,
   "id": "74568b49",
   "metadata": {},
   "outputs": [
    {
     "data": {
      "text/plain": [
       "vehicle_type                   0\n",
       "make                           0\n",
       "model                          0\n",
       "version                      158\n",
       "fuel                        3190\n",
       "year                           0\n",
       "kms                          811\n",
       "power                        291\n",
       "doors                     100000\n",
       "shift                       1018\n",
       "color                     100000\n",
       "photos                         0\n",
       "description                44190\n",
       "price                          0\n",
       "currency                       0\n",
       "location                       0\n",
       "publish_date                   0\n",
       "update_date                    0\n",
       "dealer_name                   92\n",
       "dealer_description         18442\n",
       "dealer_address                92\n",
       "dealer_zip_code               92\n",
       "dealer_city                   92\n",
       "dealer_country_code            0\n",
       "dealer_is_professional         0\n",
       "dealer_website             20087\n",
       "dealer_registered_at          92\n",
       "date                           0\n",
       "dtype: int64"
      ]
     },
     "execution_count": 5,
     "metadata": {},
     "output_type": "execute_result"
    }
   ],
   "source": [
    "df.isna().sum()"
   ]
  },
  {
   "cell_type": "markdown",
   "id": "58d95827",
   "metadata": {},
   "source": [
    "Inspeccionamos las columnas de localidades y provincias"
   ]
  },
  {
   "cell_type": "code",
   "execution_count": 6,
   "id": "0961e721",
   "metadata": {},
   "outputs": [
    {
     "data": {
      "text/html": [
       "<div>\n",
       "<style scoped>\n",
       "    .dataframe tbody tr th:only-of-type {\n",
       "        vertical-align: middle;\n",
       "    }\n",
       "\n",
       "    .dataframe tbody tr th {\n",
       "        vertical-align: top;\n",
       "    }\n",
       "\n",
       "    .dataframe thead th {\n",
       "        text-align: right;\n",
       "    }\n",
       "</style>\n",
       "<table border=\"1\" class=\"dataframe\">\n",
       "  <thead>\n",
       "    <tr style=\"text-align: right;\">\n",
       "      <th></th>\n",
       "      <th>make</th>\n",
       "      <th>model</th>\n",
       "      <th>fuel</th>\n",
       "      <th>kms</th>\n",
       "      <th>power</th>\n",
       "      <th>shift</th>\n",
       "      <th>price</th>\n",
       "      <th>location</th>\n",
       "      <th>codigopostalid</th>\n",
       "      <th>provincia</th>\n",
       "      <th>poblacion</th>\n",
       "    </tr>\n",
       "  </thead>\n",
       "  <tbody>\n",
       "    <tr>\n",
       "      <th>0</th>\n",
       "      <td>Opel</td>\n",
       "      <td>Crossland</td>\n",
       "      <td>Gasolina</td>\n",
       "      <td>5.0</td>\n",
       "      <td>110.0</td>\n",
       "      <td>manual</td>\n",
       "      <td>22900</td>\n",
       "      <td>Pineda de Mar</td>\n",
       "      <td>8397</td>\n",
       "      <td>Barcelona</td>\n",
       "      <td>Pineda de Mar</td>\n",
       "    </tr>\n",
       "    <tr>\n",
       "      <th>1</th>\n",
       "      <td>Opel</td>\n",
       "      <td>Crossland</td>\n",
       "      <td>Gasolina</td>\n",
       "      <td>24847.0</td>\n",
       "      <td>110.0</td>\n",
       "      <td>manual</td>\n",
       "      <td>19990</td>\n",
       "      <td>Coslada</td>\n",
       "      <td>28823</td>\n",
       "      <td>Madrid</td>\n",
       "      <td>Coslada</td>\n",
       "    </tr>\n",
       "    <tr>\n",
       "      <th>2</th>\n",
       "      <td>Opel</td>\n",
       "      <td>Crossland</td>\n",
       "      <td>Diésel</td>\n",
       "      <td>41356.0</td>\n",
       "      <td>120.0</td>\n",
       "      <td>automatic</td>\n",
       "      <td>18590</td>\n",
       "      <td>Madrid</td>\n",
       "      <td>28021</td>\n",
       "      <td>Madrid</td>\n",
       "      <td>Madrid</td>\n",
       "    </tr>\n",
       "    <tr>\n",
       "      <th>3</th>\n",
       "      <td>Opel</td>\n",
       "      <td>Crossland</td>\n",
       "      <td>Gasolina</td>\n",
       "      <td>11.0</td>\n",
       "      <td>110.0</td>\n",
       "      <td>manual</td>\n",
       "      <td>22700</td>\n",
       "      <td>Sabadell</td>\n",
       "      <td>8201</td>\n",
       "      <td>Barcelona</td>\n",
       "      <td>Sabadell</td>\n",
       "    </tr>\n",
       "    <tr>\n",
       "      <th>4</th>\n",
       "      <td>Opel</td>\n",
       "      <td>Crossland</td>\n",
       "      <td>Gasolina</td>\n",
       "      <td>11.0</td>\n",
       "      <td>110.0</td>\n",
       "      <td>manual</td>\n",
       "      <td>22700</td>\n",
       "      <td>Mollet del Vallès</td>\n",
       "      <td>8100</td>\n",
       "      <td>Barcelona</td>\n",
       "      <td>Mollet del Vallès</td>\n",
       "    </tr>\n",
       "  </tbody>\n",
       "</table>\n",
       "</div>"
      ],
      "text/plain": [
       "   make      model      fuel      kms  power      shift  price  \\\n",
       "0  Opel  Crossland  Gasolina      5.0  110.0     manual  22900   \n",
       "1  Opel  Crossland  Gasolina  24847.0  110.0     manual  19990   \n",
       "2  Opel  Crossland    Diésel  41356.0  120.0  automatic  18590   \n",
       "3  Opel  Crossland  Gasolina     11.0  110.0     manual  22700   \n",
       "4  Opel  Crossland  Gasolina     11.0  110.0     manual  22700   \n",
       "\n",
       "            location  codigopostalid  provincia          poblacion  \n",
       "0      Pineda de Mar            8397  Barcelona      Pineda de Mar  \n",
       "1            Coslada           28823     Madrid            Coslada  \n",
       "2             Madrid           28021     Madrid             Madrid  \n",
       "3           Sabadell            8201  Barcelona           Sabadell  \n",
       "4  Mollet del Vallès            8100  Barcelona  Mollet del Vallès  "
      ]
     },
     "execution_count": 6,
     "metadata": {},
     "output_type": "execute_result"
    }
   ],
   "source": [
    "df_provincia.head()"
   ]
  },
  {
   "cell_type": "code",
   "execution_count": 7,
   "id": "1b90c6ae",
   "metadata": {},
   "outputs": [
    {
     "data": {
      "text/plain": [
       "Madrid                                 5135\n",
       "Barcelona                              4488\n",
       "Vigo                                   3519\n",
       "Sevilla                                3411\n",
       "Murcia                                 3358\n",
       "                                       ... \n",
       "Baeza                                     1\n",
       "Foz                                       1\n",
       "Residencia Nuestra Señora del Pilar       1\n",
       "Orio                                      1\n",
       "El Saucejo                                1\n",
       "Name: location, Length: 669, dtype: int64"
      ]
     },
     "execution_count": 7,
     "metadata": {},
     "output_type": "execute_result"
    }
   ],
   "source": [
    "df.location.value_counts()"
   ]
  },
  {
   "cell_type": "markdown",
   "id": "b09c9271",
   "metadata": {},
   "source": [
    "Conclusion tras ver duplicados, nulos, etc, quitamos las siguientes columnas:"
   ]
  },
  {
   "cell_type": "code",
   "execution_count": 8,
   "id": "77e72ba7",
   "metadata": {},
   "outputs": [],
   "source": [
    "df = df.drop(['vehicle_type','dealer_country_code','dealer_is_professional','color','description','currency','dealer_zip_code','dealer_address','doors','dealer_description','update_date','dealer_registered_at','date','version','dealer_website','photos','dealer_name','dealer_city','publish_date'], axis = 1)"
   ]
  },
  {
   "cell_type": "markdown",
   "id": "086c7086",
   "metadata": {},
   "source": [
    "Ahora quitamos duplicados:"
   ]
  },
  {
   "cell_type": "code",
   "execution_count": 9,
   "id": "bb4a0f06",
   "metadata": {},
   "outputs": [
    {
     "data": {
      "text/plain": [
       "(100000, 9)"
      ]
     },
     "execution_count": 9,
     "metadata": {},
     "output_type": "execute_result"
    }
   ],
   "source": [
    "df.shape"
   ]
  },
  {
   "cell_type": "code",
   "execution_count": 10,
   "id": "163fa345",
   "metadata": {},
   "outputs": [],
   "source": [
    "df = df.drop_duplicates()"
   ]
  },
  {
   "cell_type": "markdown",
   "id": "380d3248",
   "metadata": {},
   "source": [
    "Descubrimos que prácticamente la mitad de nuestro dataframe son duplicados:"
   ]
  },
  {
   "cell_type": "code",
   "execution_count": 11,
   "id": "19c6cde6",
   "metadata": {},
   "outputs": [
    {
     "data": {
      "text/plain": [
       "(41764, 9)"
      ]
     },
     "execution_count": 11,
     "metadata": {},
     "output_type": "execute_result"
    }
   ],
   "source": [
    "df.shape"
   ]
  },
  {
   "cell_type": "markdown",
   "id": "c2adef9c",
   "metadata": {},
   "source": [
    "Quitamos los nulos"
   ]
  },
  {
   "cell_type": "code",
   "execution_count": 12,
   "id": "d2bde30f",
   "metadata": {},
   "outputs": [
    {
     "data": {
      "text/plain": [
       "(39648, 9)"
      ]
     },
     "execution_count": 12,
     "metadata": {},
     "output_type": "execute_result"
    }
   ],
   "source": [
    "df = df.dropna()\n",
    "df.shape"
   ]
  },
  {
   "cell_type": "code",
   "execution_count": 13,
   "id": "443a1d2c",
   "metadata": {},
   "outputs": [],
   "source": [
    "##TRAER CODIGO USADO PARA TENER PROVINCIAS "
   ]
  },
  {
   "cell_type": "code",
   "execution_count": null,
   "id": "d80c3f81",
   "metadata": {},
   "outputs": [],
   "source": []
  },
  {
   "cell_type": "markdown",
   "id": "5274406f",
   "metadata": {},
   "source": [
    "Unimos los dos Data Frame"
   ]
  },
  {
   "cell_type": "code",
   "execution_count": 14,
   "id": "f3265dc4",
   "metadata": {},
   "outputs": [],
   "source": [
    "loc2cp = df_provincia[['location','codigopostalid']].set_index('location').to_dict()['codigopostalid']\n",
    "loc2provincia = df_provincia[['location','provincia']].set_index('location').to_dict()['provincia']"
   ]
  },
  {
   "cell_type": "code",
   "execution_count": 15,
   "id": "4c131131",
   "metadata": {},
   "outputs": [],
   "source": [
    "df['cp'] = df.location.map(loc2cp)\n",
    "df['provincia'] = df.location.map(loc2provincia)"
   ]
  },
  {
   "cell_type": "code",
   "execution_count": 16,
   "id": "e604fb01",
   "metadata": {},
   "outputs": [
    {
     "data": {
      "text/plain": [
       "1452"
      ]
     },
     "execution_count": 16,
     "metadata": {},
     "output_type": "execute_result"
    }
   ],
   "source": [
    "df['provincia'].isna().sum()"
   ]
  },
  {
   "cell_type": "code",
   "execution_count": 17,
   "id": "930baff4",
   "metadata": {},
   "outputs": [
    {
     "data": {
      "text/plain": [
       "make            0\n",
       "model           0\n",
       "fuel            0\n",
       "year            0\n",
       "kms             0\n",
       "power           0\n",
       "shift           0\n",
       "price           0\n",
       "location        0\n",
       "cp           1452\n",
       "provincia    1452\n",
       "dtype: int64"
      ]
     },
     "execution_count": 17,
     "metadata": {},
     "output_type": "execute_result"
    }
   ],
   "source": [
    "df.isna().sum()"
   ]
  },
  {
   "cell_type": "markdown",
   "id": "95174d37",
   "metadata": {},
   "source": [
    "Volvemos a quitar duplicados y vemos la forma final"
   ]
  },
  {
   "cell_type": "code",
   "execution_count": 18,
   "id": "62695e51",
   "metadata": {},
   "outputs": [
    {
     "data": {
      "text/plain": [
       "(38196, 11)"
      ]
     },
     "execution_count": 18,
     "metadata": {},
     "output_type": "execute_result"
    }
   ],
   "source": [
    "df = df.dropna()\n",
    "df.shape"
   ]
  },
  {
   "cell_type": "markdown",
   "id": "f214a0db",
   "metadata": {},
   "source": [
    "Creamos columna antiguedad"
   ]
  },
  {
   "cell_type": "code",
   "execution_count": 19,
   "id": "5a7327bf",
   "metadata": {},
   "outputs": [],
   "source": [
    "#Explicar el porque 2023"
   ]
  },
  {
   "cell_type": "code",
   "execution_count": 20,
   "id": "83251df4",
   "metadata": {},
   "outputs": [
    {
     "data": {
      "text/html": [
       "<div>\n",
       "<style scoped>\n",
       "    .dataframe tbody tr th:only-of-type {\n",
       "        vertical-align: middle;\n",
       "    }\n",
       "\n",
       "    .dataframe tbody tr th {\n",
       "        vertical-align: top;\n",
       "    }\n",
       "\n",
       "    .dataframe thead th {\n",
       "        text-align: right;\n",
       "    }\n",
       "</style>\n",
       "<table border=\"1\" class=\"dataframe\">\n",
       "  <thead>\n",
       "    <tr style=\"text-align: right;\">\n",
       "      <th></th>\n",
       "      <th>make</th>\n",
       "      <th>model</th>\n",
       "      <th>fuel</th>\n",
       "      <th>kms</th>\n",
       "      <th>power</th>\n",
       "      <th>shift</th>\n",
       "      <th>price</th>\n",
       "      <th>location</th>\n",
       "      <th>cp</th>\n",
       "      <th>provincia</th>\n",
       "      <th>antiguedad</th>\n",
       "    </tr>\n",
       "  </thead>\n",
       "  <tbody>\n",
       "    <tr>\n",
       "      <th>0</th>\n",
       "      <td>Opel</td>\n",
       "      <td>Crossland</td>\n",
       "      <td>Gasolina</td>\n",
       "      <td>5.0</td>\n",
       "      <td>110.0</td>\n",
       "      <td>manual</td>\n",
       "      <td>22900</td>\n",
       "      <td>Pineda de Mar</td>\n",
       "      <td>8397.0</td>\n",
       "      <td>Barcelona</td>\n",
       "      <td>1</td>\n",
       "    </tr>\n",
       "    <tr>\n",
       "      <th>1</th>\n",
       "      <td>Opel</td>\n",
       "      <td>Crossland</td>\n",
       "      <td>Gasolina</td>\n",
       "      <td>24847.0</td>\n",
       "      <td>110.0</td>\n",
       "      <td>manual</td>\n",
       "      <td>19990</td>\n",
       "      <td>Coslada</td>\n",
       "      <td>28823.0</td>\n",
       "      <td>Madrid</td>\n",
       "      <td>1</td>\n",
       "    </tr>\n",
       "    <tr>\n",
       "      <th>2</th>\n",
       "      <td>Opel</td>\n",
       "      <td>Crossland</td>\n",
       "      <td>Diésel</td>\n",
       "      <td>41356.0</td>\n",
       "      <td>120.0</td>\n",
       "      <td>automatic</td>\n",
       "      <td>18590</td>\n",
       "      <td>Madrid</td>\n",
       "      <td>28014.0</td>\n",
       "      <td>Madrid</td>\n",
       "      <td>2</td>\n",
       "    </tr>\n",
       "    <tr>\n",
       "      <th>3</th>\n",
       "      <td>Opel</td>\n",
       "      <td>Crossland</td>\n",
       "      <td>Gasolina</td>\n",
       "      <td>11.0</td>\n",
       "      <td>110.0</td>\n",
       "      <td>manual</td>\n",
       "      <td>22700</td>\n",
       "      <td>Sabadell</td>\n",
       "      <td>8203.0</td>\n",
       "      <td>Barcelona</td>\n",
       "      <td>1</td>\n",
       "    </tr>\n",
       "    <tr>\n",
       "      <th>4</th>\n",
       "      <td>Opel</td>\n",
       "      <td>Crossland</td>\n",
       "      <td>Gasolina</td>\n",
       "      <td>11.0</td>\n",
       "      <td>110.0</td>\n",
       "      <td>manual</td>\n",
       "      <td>22700</td>\n",
       "      <td>Mollet del Vallès</td>\n",
       "      <td>8100.0</td>\n",
       "      <td>Barcelona</td>\n",
       "      <td>1</td>\n",
       "    </tr>\n",
       "    <tr>\n",
       "      <th>...</th>\n",
       "      <td>...</td>\n",
       "      <td>...</td>\n",
       "      <td>...</td>\n",
       "      <td>...</td>\n",
       "      <td>...</td>\n",
       "      <td>...</td>\n",
       "      <td>...</td>\n",
       "      <td>...</td>\n",
       "      <td>...</td>\n",
       "      <td>...</td>\n",
       "      <td>...</td>\n",
       "    </tr>\n",
       "    <tr>\n",
       "      <th>99990</th>\n",
       "      <td>Citroen</td>\n",
       "      <td>C4 Picasso</td>\n",
       "      <td>Diésel</td>\n",
       "      <td>148527.0</td>\n",
       "      <td>150.0</td>\n",
       "      <td>manual</td>\n",
       "      <td>13310</td>\n",
       "      <td>Granollers</td>\n",
       "      <td>8403.0</td>\n",
       "      <td>Barcelona</td>\n",
       "      <td>8</td>\n",
       "    </tr>\n",
       "    <tr>\n",
       "      <th>99992</th>\n",
       "      <td>Citroen</td>\n",
       "      <td>C4 Picasso</td>\n",
       "      <td>Diésel</td>\n",
       "      <td>148527.0</td>\n",
       "      <td>150.0</td>\n",
       "      <td>manual</td>\n",
       "      <td>13310</td>\n",
       "      <td>Estepona</td>\n",
       "      <td>29680.0</td>\n",
       "      <td>Málaga</td>\n",
       "      <td>8</td>\n",
       "    </tr>\n",
       "    <tr>\n",
       "      <th>99994</th>\n",
       "      <td>Citroen</td>\n",
       "      <td>C4 Picasso</td>\n",
       "      <td>Diésel</td>\n",
       "      <td>148527.0</td>\n",
       "      <td>150.0</td>\n",
       "      <td>manual</td>\n",
       "      <td>13310</td>\n",
       "      <td>Saladar</td>\n",
       "      <td>3700.0</td>\n",
       "      <td>Alicante</td>\n",
       "      <td>8</td>\n",
       "    </tr>\n",
       "    <tr>\n",
       "      <th>99996</th>\n",
       "      <td>Citroen</td>\n",
       "      <td>C4 Picasso</td>\n",
       "      <td>Diésel</td>\n",
       "      <td>173035.0</td>\n",
       "      <td>111.0</td>\n",
       "      <td>automatic</td>\n",
       "      <td>9290</td>\n",
       "      <td>Valencia</td>\n",
       "      <td>46002.0</td>\n",
       "      <td>Valencia</td>\n",
       "      <td>10</td>\n",
       "    </tr>\n",
       "    <tr>\n",
       "      <th>99998</th>\n",
       "      <td>Citroen</td>\n",
       "      <td>C4 Picasso</td>\n",
       "      <td>Diésel</td>\n",
       "      <td>178131.0</td>\n",
       "      <td>110.0</td>\n",
       "      <td>manual</td>\n",
       "      <td>7950</td>\n",
       "      <td>Valencia</td>\n",
       "      <td>46002.0</td>\n",
       "      <td>Valencia</td>\n",
       "      <td>11</td>\n",
       "    </tr>\n",
       "  </tbody>\n",
       "</table>\n",
       "<p>38196 rows × 11 columns</p>\n",
       "</div>"
      ],
      "text/plain": [
       "          make       model      fuel       kms  power      shift  price  \\\n",
       "0         Opel   Crossland  Gasolina       5.0  110.0     manual  22900   \n",
       "1         Opel   Crossland  Gasolina   24847.0  110.0     manual  19990   \n",
       "2         Opel   Crossland    Diésel   41356.0  120.0  automatic  18590   \n",
       "3         Opel   Crossland  Gasolina      11.0  110.0     manual  22700   \n",
       "4         Opel   Crossland  Gasolina      11.0  110.0     manual  22700   \n",
       "...        ...         ...       ...       ...    ...        ...    ...   \n",
       "99990  Citroen  C4 Picasso    Diésel  148527.0  150.0     manual  13310   \n",
       "99992  Citroen  C4 Picasso    Diésel  148527.0  150.0     manual  13310   \n",
       "99994  Citroen  C4 Picasso    Diésel  148527.0  150.0     manual  13310   \n",
       "99996  Citroen  C4 Picasso    Diésel  173035.0  111.0  automatic   9290   \n",
       "99998  Citroen  C4 Picasso    Diésel  178131.0  110.0     manual   7950   \n",
       "\n",
       "                location       cp  provincia  antiguedad  \n",
       "0          Pineda de Mar   8397.0  Barcelona           1  \n",
       "1                Coslada  28823.0     Madrid           1  \n",
       "2                 Madrid  28014.0     Madrid           2  \n",
       "3               Sabadell   8203.0  Barcelona           1  \n",
       "4      Mollet del Vallès   8100.0  Barcelona           1  \n",
       "...                  ...      ...        ...         ...  \n",
       "99990         Granollers   8403.0  Barcelona           8  \n",
       "99992           Estepona  29680.0     Málaga           8  \n",
       "99994            Saladar   3700.0   Alicante           8  \n",
       "99996           Valencia  46002.0   Valencia          10  \n",
       "99998           Valencia  46002.0   Valencia          11  \n",
       "\n",
       "[38196 rows x 11 columns]"
      ]
     },
     "execution_count": 20,
     "metadata": {},
     "output_type": "execute_result"
    }
   ],
   "source": [
    "df['antiguedad'] = (2023 - df['year'])\n",
    "df = df.drop(['year'], axis = 1)\n",
    "df"
   ]
  },
  {
   "cell_type": "code",
   "execution_count": null,
   "id": "30da0def",
   "metadata": {},
   "outputs": [],
   "source": []
  },
  {
   "cell_type": "markdown",
   "id": "45941dd8",
   "metadata": {},
   "source": [
    "Hacemos un plot mostrando las distintas features"
   ]
  },
  {
   "cell_type": "code",
   "execution_count": 21,
   "id": "b4587daf",
   "metadata": {},
   "outputs": [
    {
     "data": {
      "image/png": "[encoded data removed]",
      "text/plain": [
       "<Figure size 1500x700 with 6 Axes>"
      ]
     },
     "metadata": {},
     "output_type": "display_data"
    }
   ],
   "source": [
    "df.hist(figsize=(15, 7), bins=80)\n",
    "plt.show()"
   ]
  },
  {
   "cell_type": "markdown",
   "id": "d0789784",
   "metadata": {},
   "source": [
    "#### Examinamos la distribución de datos precio "
   ]
  },
  {
   "cell_type": "code",
   "execution_count": 29,
   "id": "319a5c0a",
   "metadata": {},
   "outputs": [
    {
     "data": {
      "text/plain": [
       "Text(0.5, 0, 'Precio en escala logaritmica')"
      ]
     },
     "execution_count": 29,
     "metadata": {},
     "output_type": "execute_result"
    },
    {
     "data": {
      "image/png": "[encoded data removed]",
      "text/plain": [
       "<Figure size 640x480 with 1 Axes>"
      ]
     },
     "metadata": {},
     "output_type": "display_data"
    }
   ],
   "source": [
    "np.log(df.price + 1).hist(bins = 30)\n",
    "plt.axvline(x=6.9, color='g', linestyle='--')\n",
    "plt.axvline(x=13.12, color='g', linestyle='--')\n",
    "plt.axvline(x=6.7, color='r', linestyle='--')\n",
    "plt.axvline(x=5, color='r', linestyle='--')\n",
    "plt.ylabel('Frecuencia')\n",
    "plt.xlabel('Precio en escala logaritmica')"
   ]
  },
  {
   "cell_type": "markdown",
   "id": "288c55e5",
   "metadata": {},
   "source": [
    "Al realizar la distribución logarítmica del precio descubrimos dos agrupaciones en nuestra distribución, gracias a nuestro análisis anterior sabemos que la agrupacion de la izquierda es consecuencia de precios inusualmente bajos en relación al precio de venta de un coche de segunda mano habitual, concluimos que los coches dentro de este ranfgo de precio se destinan a la venta para piezas y desguace. Por ello encontramos pertinente aislarla del conjunto de datos usado en el análisis. \n",
    "\n",
    "Los puntos que usamos para separar estas agrupaciones coinciden los límites de la agrupación, con un valor de:"
   ]
  },
  {
   "cell_type": "code",
   "execution_count": 32,
   "id": "c6bd7b92",
   "metadata": {},
   "outputs": [
    {
     "name": "stdout",
     "output_type": "stream",
     "text": [
      "(992.2747156050262, 498819.7065866096)\n"
     ]
    }
   ],
   "source": [
    "print(f'({np.exp(6.9)}, {np.exp(13.12)})')"
   ]
  },
  {
   "cell_type": "markdown",
   "id": "d7640ce1",
   "metadata": {},
   "source": [
    "#### Escalamos logaritmicamente la distribución de los precios "
   ]
  },
  {
   "cell_type": "code",
   "execution_count": 33,
   "id": "1162a067",
   "metadata": {},
   "outputs": [],
   "source": [
    "df_escalado = df.copy()"
   ]
  },
  {
   "cell_type": "code",
   "execution_count": 34,
   "id": "48637f6b",
   "metadata": {},
   "outputs": [
    {
     "name": "stderr",
     "output_type": "stream",
     "text": [
      "C:\\Users\\Usuario\\anaconda3\\lib\\site-packages\\pandas\\core\\arraylike.py:402: RuntimeWarning: divide by zero encountered in log\n",
      "  result = getattr(ufunc, method)(*inputs, **kwargs)\n"
     ]
    }
   ],
   "source": [
    "df_escalado['precio_escalado'] = np.log(df_escalado['price'])\n",
    "df_escalado = df_escalado.drop(['price'], axis =1)"
   ]
  },
  {
   "cell_type": "code",
   "execution_count": 35,
   "id": "754c7637",
   "metadata": {},
   "outputs": [
    {
     "name": "stdout",
     "output_type": "stream",
     "text": [
      "          make       model      fuel       kms  power      shift  \\\n",
      "0         Opel   Crossland  Gasolina       5.0  110.0     manual   \n",
      "1         Opel   Crossland  Gasolina   24847.0  110.0     manual   \n",
      "2         Opel   Crossland    Diésel   41356.0  120.0  automatic   \n",
      "3         Opel   Crossland  Gasolina      11.0  110.0     manual   \n",
      "4         Opel   Crossland  Gasolina      11.0  110.0     manual   \n",
      "...        ...         ...       ...       ...    ...        ...   \n",
      "99990  Citroen  C4 Picasso    Diésel  148527.0  150.0     manual   \n",
      "99992  Citroen  C4 Picasso    Diésel  148527.0  150.0     manual   \n",
      "99994  Citroen  C4 Picasso    Diésel  148527.0  150.0     manual   \n",
      "99996  Citroen  C4 Picasso    Diésel  173035.0  111.0  automatic   \n",
      "99998  Citroen  C4 Picasso    Diésel  178131.0  110.0     manual   \n",
      "\n",
      "                location       cp  provincia  antiguedad  precio_escalado  \n",
      "0          Pineda de Mar   8397.0  Barcelona           1        10.038892  \n",
      "1                Coslada  28823.0     Madrid           1         9.902987  \n",
      "2                 Madrid  28014.0     Madrid           2         9.830379  \n",
      "3               Sabadell   8203.0  Barcelona           1        10.030120  \n",
      "4      Mollet del Vallès   8100.0  Barcelona           1        10.030120  \n",
      "...                  ...      ...        ...         ...              ...  \n",
      "99990         Granollers   8403.0  Barcelona           8         9.496271  \n",
      "99992           Estepona  29680.0     Málaga           8         9.496271  \n",
      "99994            Saladar   3700.0   Alicante           8         9.496271  \n",
      "99996           Valencia  46002.0   Valencia          10         9.136694  \n",
      "99998           Valencia  46002.0   Valencia          11         8.980927  \n",
      "\n",
      "[38196 rows x 11 columns]\n"
     ]
    }
   ],
   "source": [
    "print(df_escalado)"
   ]
  },
  {
   "cell_type": "markdown",
   "id": "f0e317e8",
   "metadata": {},
   "source": [
    "#### Seleccionamos el conjunto acotado "
   ]
  },
  {
   "cell_type": "code",
   "execution_count": 36,
   "id": "ff9d7413",
   "metadata": {},
   "outputs": [
    {
     "data": {
      "text/html": [
       "<div>\n",
       "<style scoped>\n",
       "    .dataframe tbody tr th:only-of-type {\n",
       "        vertical-align: middle;\n",
       "    }\n",
       "\n",
       "    .dataframe tbody tr th {\n",
       "        vertical-align: top;\n",
       "    }\n",
       "\n",
       "    .dataframe thead th {\n",
       "        text-align: right;\n",
       "    }\n",
       "</style>\n",
       "<table border=\"1\" class=\"dataframe\">\n",
       "  <thead>\n",
       "    <tr style=\"text-align: right;\">\n",
       "      <th></th>\n",
       "      <th>make</th>\n",
       "      <th>model</th>\n",
       "      <th>fuel</th>\n",
       "      <th>kms</th>\n",
       "      <th>power</th>\n",
       "      <th>shift</th>\n",
       "      <th>location</th>\n",
       "      <th>cp</th>\n",
       "      <th>provincia</th>\n",
       "      <th>antiguedad</th>\n",
       "      <th>precio_escalado</th>\n",
       "    </tr>\n",
       "  </thead>\n",
       "  <tbody>\n",
       "    <tr>\n",
       "      <th>0</th>\n",
       "      <td>Opel</td>\n",
       "      <td>Crossland</td>\n",
       "      <td>Gasolina</td>\n",
       "      <td>5.0</td>\n",
       "      <td>110.0</td>\n",
       "      <td>manual</td>\n",
       "      <td>Pineda de Mar</td>\n",
       "      <td>8397.0</td>\n",
       "      <td>Barcelona</td>\n",
       "      <td>1</td>\n",
       "      <td>10.038892</td>\n",
       "    </tr>\n",
       "    <tr>\n",
       "      <th>1</th>\n",
       "      <td>Opel</td>\n",
       "      <td>Crossland</td>\n",
       "      <td>Gasolina</td>\n",
       "      <td>24847.0</td>\n",
       "      <td>110.0</td>\n",
       "      <td>manual</td>\n",
       "      <td>Coslada</td>\n",
       "      <td>28823.0</td>\n",
       "      <td>Madrid</td>\n",
       "      <td>1</td>\n",
       "      <td>9.902987</td>\n",
       "    </tr>\n",
       "    <tr>\n",
       "      <th>2</th>\n",
       "      <td>Opel</td>\n",
       "      <td>Crossland</td>\n",
       "      <td>Diésel</td>\n",
       "      <td>41356.0</td>\n",
       "      <td>120.0</td>\n",
       "      <td>automatic</td>\n",
       "      <td>Madrid</td>\n",
       "      <td>28014.0</td>\n",
       "      <td>Madrid</td>\n",
       "      <td>2</td>\n",
       "      <td>9.830379</td>\n",
       "    </tr>\n",
       "    <tr>\n",
       "      <th>3</th>\n",
       "      <td>Opel</td>\n",
       "      <td>Crossland</td>\n",
       "      <td>Gasolina</td>\n",
       "      <td>11.0</td>\n",
       "      <td>110.0</td>\n",
       "      <td>manual</td>\n",
       "      <td>Sabadell</td>\n",
       "      <td>8203.0</td>\n",
       "      <td>Barcelona</td>\n",
       "      <td>1</td>\n",
       "      <td>10.030120</td>\n",
       "    </tr>\n",
       "    <tr>\n",
       "      <th>4</th>\n",
       "      <td>Opel</td>\n",
       "      <td>Crossland</td>\n",
       "      <td>Gasolina</td>\n",
       "      <td>11.0</td>\n",
       "      <td>110.0</td>\n",
       "      <td>manual</td>\n",
       "      <td>Mollet del Vallès</td>\n",
       "      <td>8100.0</td>\n",
       "      <td>Barcelona</td>\n",
       "      <td>1</td>\n",
       "      <td>10.030120</td>\n",
       "    </tr>\n",
       "    <tr>\n",
       "      <th>...</th>\n",
       "      <td>...</td>\n",
       "      <td>...</td>\n",
       "      <td>...</td>\n",
       "      <td>...</td>\n",
       "      <td>...</td>\n",
       "      <td>...</td>\n",
       "      <td>...</td>\n",
       "      <td>...</td>\n",
       "      <td>...</td>\n",
       "      <td>...</td>\n",
       "      <td>...</td>\n",
       "    </tr>\n",
       "    <tr>\n",
       "      <th>99990</th>\n",
       "      <td>Citroen</td>\n",
       "      <td>C4 Picasso</td>\n",
       "      <td>Diésel</td>\n",
       "      <td>148527.0</td>\n",
       "      <td>150.0</td>\n",
       "      <td>manual</td>\n",
       "      <td>Granollers</td>\n",
       "      <td>8403.0</td>\n",
       "      <td>Barcelona</td>\n",
       "      <td>8</td>\n",
       "      <td>9.496271</td>\n",
       "    </tr>\n",
       "    <tr>\n",
       "      <th>99992</th>\n",
       "      <td>Citroen</td>\n",
       "      <td>C4 Picasso</td>\n",
       "      <td>Diésel</td>\n",
       "      <td>148527.0</td>\n",
       "      <td>150.0</td>\n",
       "      <td>manual</td>\n",
       "      <td>Estepona</td>\n",
       "      <td>29680.0</td>\n",
       "      <td>Málaga</td>\n",
       "      <td>8</td>\n",
       "      <td>9.496271</td>\n",
       "    </tr>\n",
       "    <tr>\n",
       "      <th>99994</th>\n",
       "      <td>Citroen</td>\n",
       "      <td>C4 Picasso</td>\n",
       "      <td>Diésel</td>\n",
       "      <td>148527.0</td>\n",
       "      <td>150.0</td>\n",
       "      <td>manual</td>\n",
       "      <td>Saladar</td>\n",
       "      <td>3700.0</td>\n",
       "      <td>Alicante</td>\n",
       "      <td>8</td>\n",
       "      <td>9.496271</td>\n",
       "    </tr>\n",
       "    <tr>\n",
       "      <th>99996</th>\n",
       "      <td>Citroen</td>\n",
       "      <td>C4 Picasso</td>\n",
       "      <td>Diésel</td>\n",
       "      <td>173035.0</td>\n",
       "      <td>111.0</td>\n",
       "      <td>automatic</td>\n",
       "      <td>Valencia</td>\n",
       "      <td>46002.0</td>\n",
       "      <td>Valencia</td>\n",
       "      <td>10</td>\n",
       "      <td>9.136694</td>\n",
       "    </tr>\n",
       "    <tr>\n",
       "      <th>99998</th>\n",
       "      <td>Citroen</td>\n",
       "      <td>C4 Picasso</td>\n",
       "      <td>Diésel</td>\n",
       "      <td>178131.0</td>\n",
       "      <td>110.0</td>\n",
       "      <td>manual</td>\n",
       "      <td>Valencia</td>\n",
       "      <td>46002.0</td>\n",
       "      <td>Valencia</td>\n",
       "      <td>11</td>\n",
       "      <td>8.980927</td>\n",
       "    </tr>\n",
       "  </tbody>\n",
       "</table>\n",
       "<p>37274 rows × 11 columns</p>\n",
       "</div>"
      ],
      "text/plain": [
       "          make       model      fuel       kms  power      shift  \\\n",
       "0         Opel   Crossland  Gasolina       5.0  110.0     manual   \n",
       "1         Opel   Crossland  Gasolina   24847.0  110.0     manual   \n",
       "2         Opel   Crossland    Diésel   41356.0  120.0  automatic   \n",
       "3         Opel   Crossland  Gasolina      11.0  110.0     manual   \n",
       "4         Opel   Crossland  Gasolina      11.0  110.0     manual   \n",
       "...        ...         ...       ...       ...    ...        ...   \n",
       "99990  Citroen  C4 Picasso    Diésel  148527.0  150.0     manual   \n",
       "99992  Citroen  C4 Picasso    Diésel  148527.0  150.0     manual   \n",
       "99994  Citroen  C4 Picasso    Diésel  148527.0  150.0     manual   \n",
       "99996  Citroen  C4 Picasso    Diésel  173035.0  111.0  automatic   \n",
       "99998  Citroen  C4 Picasso    Diésel  178131.0  110.0     manual   \n",
       "\n",
       "                location       cp  provincia  antiguedad  precio_escalado  \n",
       "0          Pineda de Mar   8397.0  Barcelona           1        10.038892  \n",
       "1                Coslada  28823.0     Madrid           1         9.902987  \n",
       "2                 Madrid  28014.0     Madrid           2         9.830379  \n",
       "3               Sabadell   8203.0  Barcelona           1        10.030120  \n",
       "4      Mollet del Vallès   8100.0  Barcelona           1        10.030120  \n",
       "...                  ...      ...        ...         ...              ...  \n",
       "99990         Granollers   8403.0  Barcelona           8         9.496271  \n",
       "99992           Estepona  29680.0     Málaga           8         9.496271  \n",
       "99994            Saladar   3700.0   Alicante           8         9.496271  \n",
       "99996           Valencia  46002.0   Valencia          10         9.136694  \n",
       "99998           Valencia  46002.0   Valencia          11         8.980927  \n",
       "\n",
       "[37274 rows x 11 columns]"
      ]
     },
     "execution_count": 36,
     "metadata": {},
     "output_type": "execute_result"
    }
   ],
   "source": [
    "df_acotado = df_escalado[(df_escalado['precio_escalado'] < 13.12) & (df_escalado['precio_escalado'] > 6.9)]\n",
    "\n",
    "df_acotado"
   ]
  },
  {
   "cell_type": "markdown",
   "id": "f9fc0008",
   "metadata": {},
   "source": [
    "#### Introducimos valores numericos como etiquetas"
   ]
  },
  {
   "cell_type": "code",
   "execution_count": 37,
   "id": "9502dd82",
   "metadata": {},
   "outputs": [
    {
     "data": {
      "text/plain": [
       "4"
      ]
     },
     "execution_count": 37,
     "metadata": {},
     "output_type": "execute_result"
    }
   ],
   "source": [
    "df_acotado.fuel.nunique()"
   ]
  },
  {
   "cell_type": "code",
   "execution_count": 38,
   "id": "0f7f0b9b",
   "metadata": {},
   "outputs": [
    {
     "name": "stderr",
     "output_type": "stream",
     "text": [
      "C:\\Users\\Usuario\\AppData\\Local\\Temp\\ipykernel_17272\\288593387.py:1: SettingWithCopyWarning: \n",
      "A value is trying to be set on a copy of a slice from a DataFrame.\n",
      "Try using .loc[row_indexer,col_indexer] = value instead\n",
      "\n",
      "See the caveats in the documentation: https://pandas.pydata.org/pandas-docs/stable/user_guide/indexing.html#returning-a-view-versus-a-copy\n",
      "  df_acotado[\"shift\"] = df_acotado[\"shift\"].replace({'manual': 1, 'automatic': 0})\n",
      "C:\\Users\\Usuario\\AppData\\Local\\Temp\\ipykernel_17272\\288593387.py:2: SettingWithCopyWarning: \n",
      "A value is trying to be set on a copy of a slice from a DataFrame.\n",
      "Try using .loc[row_indexer,col_indexer] = value instead\n",
      "\n",
      "See the caveats in the documentation: https://pandas.pydata.org/pandas-docs/stable/user_guide/indexing.html#returning-a-view-versus-a-copy\n",
      "  df_acotado[\"fuel\"] = df_acotado[\"fuel\"].replace({'Gasolina': 0, 'Diésel': 1, 'Eléctrico': 2, 'Otros': 3})\n"
     ]
    }
   ],
   "source": [
    "df_acotado[\"shift\"] = df_acotado[\"shift\"].replace({'manual': 1, 'automatic': 0})\n",
    "df_acotado[\"fuel\"] = df_acotado[\"fuel\"].replace({'Gasolina': 0, 'Diésel': 1, 'Eléctrico': 2, 'Otros': 3})"
   ]
  },
  {
   "cell_type": "markdown",
   "id": "edacd6f4",
   "metadata": {},
   "source": [
    "#### Hacemos una tabla de correlación  "
   ]
  },
  {
   "cell_type": "code",
   "execution_count": 39,
   "id": "33446b3c",
   "metadata": {},
   "outputs": [
    {
     "data": {
      "text/html": [
       "<style type=\"text/css\">\n",
       "#T_9eaab_row0_col0, #T_9eaab_row1_col1, #T_9eaab_row2_col2, #T_9eaab_row3_col3, #T_9eaab_row4_col4, #T_9eaab_row5_col5, #T_9eaab_row6_col6 {\n",
       "  background-color: #00441b;\n",
       "  color: #f1f1f1;\n",
       "}\n",
       "#T_9eaab_row0_col1 {\n",
       "  background-color: #88ce87;\n",
       "  color: #000000;\n",
       "}\n",
       "#T_9eaab_row0_col2, #T_9eaab_row3_col4 {\n",
       "  background-color: #f4fbf1;\n",
       "  color: #000000;\n",
       "}\n",
       "#T_9eaab_row0_col3 {\n",
       "  background-color: #d1edcb;\n",
       "  color: #000000;\n",
       "}\n",
       "#T_9eaab_row0_col4, #T_9eaab_row1_col2, #T_9eaab_row6_col2 {\n",
       "  background-color: #f1faee;\n",
       "  color: #000000;\n",
       "}\n",
       "#T_9eaab_row0_col5 {\n",
       "  background-color: #aadda4;\n",
       "  color: #000000;\n",
       "}\n",
       "#T_9eaab_row0_col6 {\n",
       "  background-color: #91d28e;\n",
       "  color: #000000;\n",
       "}\n",
       "#T_9eaab_row1_col0, #T_9eaab_row2_col1 {\n",
       "  background-color: #b4e1ad;\n",
       "  color: #000000;\n",
       "}\n",
       "#T_9eaab_row1_col3 {\n",
       "  background-color: #afdfa8;\n",
       "  color: #000000;\n",
       "}\n",
       "#T_9eaab_row1_col4 {\n",
       "  background-color: #f0f9ed;\n",
       "  color: #000000;\n",
       "}\n",
       "#T_9eaab_row1_col5 {\n",
       "  background-color: #258d47;\n",
       "  color: #f1f1f1;\n",
       "}\n",
       "#T_9eaab_row1_col6 {\n",
       "  background-color: #eef8ea;\n",
       "  color: #000000;\n",
       "}\n",
       "#T_9eaab_row2_col0, #T_9eaab_row5_col0 {\n",
       "  background-color: #e1f3dc;\n",
       "  color: #000000;\n",
       "}\n",
       "#T_9eaab_row2_col3 {\n",
       "  background-color: #b6e2af;\n",
       "  color: #000000;\n",
       "}\n",
       "#T_9eaab_row2_col4 {\n",
       "  background-color: #f5fbf3;\n",
       "  color: #000000;\n",
       "}\n",
       "#T_9eaab_row2_col5 {\n",
       "  background-color: #a4da9e;\n",
       "  color: #000000;\n",
       "}\n",
       "#T_9eaab_row2_col6 {\n",
       "  background-color: #a5db9f;\n",
       "  color: #000000;\n",
       "}\n",
       "#T_9eaab_row3_col0, #T_9eaab_row3_col2, #T_9eaab_row5_col6, #T_9eaab_row6_col1, #T_9eaab_row6_col3, #T_9eaab_row6_col4, #T_9eaab_row6_col5 {\n",
       "  background-color: #f7fcf5;\n",
       "  color: #000000;\n",
       "}\n",
       "#T_9eaab_row3_col1 {\n",
       "  background-color: #b5e1ae;\n",
       "  color: #000000;\n",
       "}\n",
       "#T_9eaab_row3_col5 {\n",
       "  background-color: #a0d99b;\n",
       "  color: #000000;\n",
       "}\n",
       "#T_9eaab_row3_col6 {\n",
       "  background-color: #f2faef;\n",
       "  color: #000000;\n",
       "}\n",
       "#T_9eaab_row4_col0 {\n",
       "  background-color: #dcf2d7;\n",
       "  color: #000000;\n",
       "}\n",
       "#T_9eaab_row4_col1 {\n",
       "  background-color: #b1e0ab;\n",
       "  color: #000000;\n",
       "}\n",
       "#T_9eaab_row4_col2, #T_9eaab_row5_col4 {\n",
       "  background-color: #f4fbf2;\n",
       "  color: #000000;\n",
       "}\n",
       "#T_9eaab_row4_col3 {\n",
       "  background-color: #b0dfaa;\n",
       "  color: #000000;\n",
       "}\n",
       "#T_9eaab_row4_col5 {\n",
       "  background-color: #a9dca3;\n",
       "  color: #000000;\n",
       "}\n",
       "#T_9eaab_row4_col6 {\n",
       "  background-color: #aedea7;\n",
       "  color: #000000;\n",
       "}\n",
       "#T_9eaab_row5_col1 {\n",
       "  background-color: #2a924a;\n",
       "  color: #f1f1f1;\n",
       "}\n",
       "#T_9eaab_row5_col2 {\n",
       "  background-color: #f0f9ec;\n",
       "  color: #000000;\n",
       "}\n",
       "#T_9eaab_row5_col3 {\n",
       "  background-color: #a8dca2;\n",
       "  color: #000000;\n",
       "}\n",
       "#T_9eaab_row6_col0 {\n",
       "  background-color: #caeac3;\n",
       "  color: #000000;\n",
       "}\n",
       "</style>\n",
       "<table id=\"T_9eaab\">\n",
       "  <thead>\n",
       "    <tr>\n",
       "      <th class=\"blank level0\" >&nbsp;</th>\n",
       "      <th id=\"T_9eaab_level0_col0\" class=\"col_heading level0 col0\" >fuel</th>\n",
       "      <th id=\"T_9eaab_level0_col1\" class=\"col_heading level0 col1\" >kms</th>\n",
       "      <th id=\"T_9eaab_level0_col2\" class=\"col_heading level0 col2\" >power</th>\n",
       "      <th id=\"T_9eaab_level0_col3\" class=\"col_heading level0 col3\" >shift</th>\n",
       "      <th id=\"T_9eaab_level0_col4\" class=\"col_heading level0 col4\" >cp</th>\n",
       "      <th id=\"T_9eaab_level0_col5\" class=\"col_heading level0 col5\" >antiguedad</th>\n",
       "      <th id=\"T_9eaab_level0_col6\" class=\"col_heading level0 col6\" >precio_escalado</th>\n",
       "    </tr>\n",
       "  </thead>\n",
       "  <tbody>\n",
       "    <tr>\n",
       "      <th id=\"T_9eaab_level0_row0\" class=\"row_heading level0 row0\" >fuel</th>\n",
       "      <td id=\"T_9eaab_row0_col0\" class=\"data row0 col0\" >1.000</td>\n",
       "      <td id=\"T_9eaab_row0_col1\" class=\"data row0 col1\" >0.198</td>\n",
       "      <td id=\"T_9eaab_row0_col2\" class=\"data row0 col2\" >-0.004</td>\n",
       "      <td id=\"T_9eaab_row0_col3\" class=\"data row0 col3\" >-0.172</td>\n",
       "      <td id=\"T_9eaab_row0_col4\" class=\"data row0 col4\" >0.018</td>\n",
       "      <td id=\"T_9eaab_row0_col5\" class=\"data row0 col5\" >-0.003</td>\n",
       "      <td id=\"T_9eaab_row0_col6\" class=\"data row0 col6\" >0.111</td>\n",
       "    </tr>\n",
       "    <tr>\n",
       "      <th id=\"T_9eaab_level0_row1\" class=\"row_heading level0 row1\" >kms</th>\n",
       "      <td id=\"T_9eaab_row1_col0\" class=\"data row1 col0\" >0.198</td>\n",
       "      <td id=\"T_9eaab_row1_col1\" class=\"data row1 col1\" >1.000</td>\n",
       "      <td id=\"T_9eaab_row1_col2\" class=\"data row1 col2\" >0.015</td>\n",
       "      <td id=\"T_9eaab_row1_col3\" class=\"data row1 col3\" >0.007</td>\n",
       "      <td id=\"T_9eaab_row1_col4\" class=\"data row1 col4\" >0.027</td>\n",
       "      <td id=\"T_9eaab_row1_col5\" class=\"data row1 col5\" >0.599</td>\n",
       "      <td id=\"T_9eaab_row1_col6\" class=\"data row1 col6\" >-0.439</td>\n",
       "    </tr>\n",
       "    <tr>\n",
       "      <th id=\"T_9eaab_level0_row2\" class=\"row_heading level0 row2\" >power</th>\n",
       "      <td id=\"T_9eaab_row2_col0\" class=\"data row2 col0\" >-0.004</td>\n",
       "      <td id=\"T_9eaab_row2_col1\" class=\"data row2 col1\" >0.015</td>\n",
       "      <td id=\"T_9eaab_row2_col2\" class=\"data row2 col2\" >1.000</td>\n",
       "      <td id=\"T_9eaab_row2_col3\" class=\"data row2 col3\" >-0.029</td>\n",
       "      <td id=\"T_9eaab_row2_col4\" class=\"data row2 col4\" >-0.008</td>\n",
       "      <td id=\"T_9eaab_row2_col5\" class=\"data row2 col5\" >0.024</td>\n",
       "      <td id=\"T_9eaab_row2_col6\" class=\"data row2 col6\" >0.016</td>\n",
       "    </tr>\n",
       "    <tr>\n",
       "      <th id=\"T_9eaab_level0_row3\" class=\"row_heading level0 row3\" >shift</th>\n",
       "      <td id=\"T_9eaab_row3_col0\" class=\"data row3 col0\" >-0.172</td>\n",
       "      <td id=\"T_9eaab_row3_col1\" class=\"data row3 col1\" >0.007</td>\n",
       "      <td id=\"T_9eaab_row3_col2\" class=\"data row3 col2\" >-0.029</td>\n",
       "      <td id=\"T_9eaab_row3_col3\" class=\"data row3 col3\" >1.000</td>\n",
       "      <td id=\"T_9eaab_row3_col4\" class=\"data row3 col4\" >0.002</td>\n",
       "      <td id=\"T_9eaab_row3_col5\" class=\"data row3 col5\" >0.044</td>\n",
       "      <td id=\"T_9eaab_row3_col6\" class=\"data row3 col6\" >-0.480</td>\n",
       "    </tr>\n",
       "    <tr>\n",
       "      <th id=\"T_9eaab_level0_row4\" class=\"row_heading level0 row4\" >cp</th>\n",
       "      <td id=\"T_9eaab_row4_col0\" class=\"data row4 col0\" >0.018</td>\n",
       "      <td id=\"T_9eaab_row4_col1\" class=\"data row4 col1\" >0.027</td>\n",
       "      <td id=\"T_9eaab_row4_col2\" class=\"data row4 col2\" >-0.008</td>\n",
       "      <td id=\"T_9eaab_row4_col3\" class=\"data row4 col3\" >0.002</td>\n",
       "      <td id=\"T_9eaab_row4_col4\" class=\"data row4 col4\" >1.000</td>\n",
       "      <td id=\"T_9eaab_row4_col5\" class=\"data row4 col5\" >0.001</td>\n",
       "      <td id=\"T_9eaab_row4_col6\" class=\"data row4 col6\" >-0.022</td>\n",
       "    </tr>\n",
       "    <tr>\n",
       "      <th id=\"T_9eaab_level0_row5\" class=\"row_heading level0 row5\" >antiguedad</th>\n",
       "      <td id=\"T_9eaab_row5_col0\" class=\"data row5 col0\" >-0.003</td>\n",
       "      <td id=\"T_9eaab_row5_col1\" class=\"data row5 col1\" >0.599</td>\n",
       "      <td id=\"T_9eaab_row5_col2\" class=\"data row5 col2\" >0.024</td>\n",
       "      <td id=\"T_9eaab_row5_col3\" class=\"data row5 col3\" >0.044</td>\n",
       "      <td id=\"T_9eaab_row5_col4\" class=\"data row5 col4\" >0.001</td>\n",
       "      <td id=\"T_9eaab_row5_col5\" class=\"data row5 col5\" >1.000</td>\n",
       "      <td id=\"T_9eaab_row5_col6\" class=\"data row5 col6\" >-0.537</td>\n",
       "    </tr>\n",
       "    <tr>\n",
       "      <th id=\"T_9eaab_level0_row6\" class=\"row_heading level0 row6\" >precio_escalado</th>\n",
       "      <td id=\"T_9eaab_row6_col0\" class=\"data row6 col0\" >0.111</td>\n",
       "      <td id=\"T_9eaab_row6_col1\" class=\"data row6 col1\" >-0.439</td>\n",
       "      <td id=\"T_9eaab_row6_col2\" class=\"data row6 col2\" >0.016</td>\n",
       "      <td id=\"T_9eaab_row6_col3\" class=\"data row6 col3\" >-0.480</td>\n",
       "      <td id=\"T_9eaab_row6_col4\" class=\"data row6 col4\" >-0.022</td>\n",
       "      <td id=\"T_9eaab_row6_col5\" class=\"data row6 col5\" >-0.537</td>\n",
       "      <td id=\"T_9eaab_row6_col6\" class=\"data row6 col6\" >1.000</td>\n",
       "    </tr>\n",
       "  </tbody>\n",
       "</table>\n"
      ],
      "text/plain": [
       "<pandas.io.formats.style.Styler at 0x1ed50b86110>"
      ]
     },
     "execution_count": 39,
     "metadata": {},
     "output_type": "execute_result"
    }
   ],
   "source": [
    "corr = df_acotado.drop(['make', 'model', 'location', 'provincia'], axis =1).corr()\n",
    "corr.style.background_gradient(cmap='Greens').format(precision=3)"
   ]
  },
  {
   "cell_type": "markdown",
   "id": "613986a4",
   "metadata": {},
   "source": [
    "Concluimos que power tiene poca correlacion con el target (precio) y ademas tiene una distribucion muy limitada. \n",
    "Por eso lo quitamos de nuestro dataset. "
   ]
  },
  {
   "cell_type": "markdown",
   "id": "c7580823",
   "metadata": {},
   "source": [
    "A tomar en cuenta:"
   ]
  },
  {
   "cell_type": "markdown",
   "id": "0f5dd1b8",
   "metadata": {},
   "source": [
    "Al estudiar los datos nos hemos dado cuenta de que coinciden anuncios de coches en los que solo cambia \n",
    "la locacalización, es decir, son duplicados. Por ello, eliminamos la columna y hacemos drop.duplicate()."
   ]
  },
  {
   "cell_type": "code",
   "execution_count": 40,
   "id": "776c9f36",
   "metadata": {},
   "outputs": [],
   "source": [
    "df_acotado  = df_acotado[['make','fuel','kms','shift','antiguedad', 'precio_escalado']]"
   ]
  },
  {
   "cell_type": "code",
   "execution_count": 41,
   "id": "ae247c97",
   "metadata": {},
   "outputs": [],
   "source": [
    "df_acotado = df_acotado.drop_duplicates()"
   ]
  },
  {
   "cell_type": "markdown",
   "id": "ba6540e3",
   "metadata": {},
   "source": [
    "Descubrimos que hay anuncios duplicados en varias provincias distintas, por lo que quitamos duplicados tras quitar las columnas correspondientes. Así que el df pasa a tener 11656 registros:"
   ]
  },
  {
   "cell_type": "code",
   "execution_count": 42,
   "id": "66d9926e",
   "metadata": {},
   "outputs": [
    {
     "data": {
      "text/plain": [
       "(11656, 6)"
      ]
     },
     "execution_count": 42,
     "metadata": {},
     "output_type": "execute_result"
    }
   ],
   "source": [
    "df_acotado.shape"
   ]
  },
  {
   "cell_type": "markdown",
   "id": "6ec7b55f",
   "metadata": {},
   "source": [
    "####  Vemos que resultados ha producido nuestro modelado"
   ]
  },
  {
   "cell_type": "markdown",
   "id": "801b62c1",
   "metadata": {},
   "source": [
    "Para ello hemos decido realizar un boxplot que nos permita ver la distribución del precio."
   ]
  },
  {
   "cell_type": "code",
   "execution_count": 66,
   "id": "eab8d066",
   "metadata": {},
   "outputs": [
    {
     "data": {
      "image/png": "[encoded data removed]",
      "text/plain": [
       "<Figure size 1000x480 with 2 Axes>"
      ]
     },
     "metadata": {},
     "output_type": "display_data"
    }
   ],
   "source": [
    "fig, (ax2, ax1) = plt.subplots(1, 2)\n",
    "\n",
    "z = df_acotado.precio_escalado\n",
    "\n",
    "ax2.boxplot(df.price)\n",
    "ax1.boxplot(z)\n",
    "ax2.set_title('Distribucion de precios anterior')\n",
    "ax1.set_title('Distribucion de precios posterior')\n",
    "ax2.set_ylabel('Precios en €')\n",
    "ax1.set_ylabel('Precios escala logaritmica y acotados')\n",
    "fig.subplots_adjust(wspace=0.5)\n",
    "fig.set_figwidth(10)"
   ]
  },
  {
   "cell_type": "markdown",
   "id": "424e57ae",
   "metadata": {},
   "source": [
    "Podemos ver que tras nuestra acotación y la transformación a escala logarítmica, la distrubución será mas eficiente para nuestro\n",
    "modelo. "
   ]
  },
  {
   "cell_type": "code",
   "execution_count": 44,
   "id": "af7eb72c",
   "metadata": {},
   "outputs": [
    {
     "data": {
      "text/plain": [
       "0        10.038892\n",
       "1         9.902987\n",
       "2         9.830379\n",
       "3        10.030120\n",
       "5         9.809177\n",
       "           ...    \n",
       "99931     9.809177\n",
       "99947     9.366489\n",
       "99948     9.487896\n",
       "99996     9.136694\n",
       "99998     8.980927\n",
       "Name: precio_escalado, Length: 11656, dtype: float64"
      ]
     },
     "execution_count": 44,
     "metadata": {},
     "output_type": "execute_result"
    }
   ],
   "source": [
    "df_acotado.precio_escalado"
   ]
  },
  {
   "cell_type": "markdown",
   "id": "8c74d5de",
   "metadata": {},
   "source": [
    "Además hemos escogido un diagrama de violín con el objetivo de tener otra perspectiva:"
   ]
  },
  {
   "cell_type": "code",
   "execution_count": 68,
   "id": "426af5b4",
   "metadata": {},
   "outputs": [
    {
     "data": {
      "text/plain": [
       "Text(0.5, 0, 'Frecuencia')"
      ]
     },
     "execution_count": 68,
     "metadata": {},
     "output_type": "execute_result"
    },
    {
     "data": {
      "image/png": "[encoded data removed]",
      "text/plain": [
       "<Figure size 640x480 with 1 Axes>"
      ]
     },
     "metadata": {},
     "output_type": "display_data"
    }
   ],
   "source": [
    "plt.violinplot(df_acotado['precio_escalado'], quantiles = [0.25, 0.5, 0.75])\n",
    "plt.title('Distribución del precio')\n",
    "plt.ylabel('Precio en escala logaritmica')\n",
    "plt.xlabel('Frecuencia')"
   ]
  },
  {
   "cell_type": "markdown",
   "id": "1517e0c3",
   "metadata": {},
   "source": [
    "Podemos apreciar que nuestra distribución recae sobre los caurtiles medios, algo típico de una distribución normal. "
   ]
  },
  {
   "cell_type": "code",
   "execution_count": 46,
   "id": "d7747b13",
   "metadata": {},
   "outputs": [
    {
     "data": {
      "text/html": [
       "<div>\n",
       "<style scoped>\n",
       "    .dataframe tbody tr th:only-of-type {\n",
       "        vertical-align: middle;\n",
       "    }\n",
       "\n",
       "    .dataframe tbody tr th {\n",
       "        vertical-align: top;\n",
       "    }\n",
       "\n",
       "    .dataframe thead th {\n",
       "        text-align: right;\n",
       "    }\n",
       "</style>\n",
       "<table border=\"1\" class=\"dataframe\">\n",
       "  <thead>\n",
       "    <tr style=\"text-align: right;\">\n",
       "      <th></th>\n",
       "      <th>make</th>\n",
       "      <th>fuel</th>\n",
       "      <th>kms</th>\n",
       "      <th>shift</th>\n",
       "      <th>antiguedad</th>\n",
       "      <th>precio_escalado</th>\n",
       "    </tr>\n",
       "  </thead>\n",
       "  <tbody>\n",
       "    <tr>\n",
       "      <th>0</th>\n",
       "      <td>Opel</td>\n",
       "      <td>0</td>\n",
       "      <td>5.0</td>\n",
       "      <td>1</td>\n",
       "      <td>1</td>\n",
       "      <td>10.038892</td>\n",
       "    </tr>\n",
       "    <tr>\n",
       "      <th>1</th>\n",
       "      <td>Opel</td>\n",
       "      <td>0</td>\n",
       "      <td>24847.0</td>\n",
       "      <td>1</td>\n",
       "      <td>1</td>\n",
       "      <td>9.902987</td>\n",
       "    </tr>\n",
       "    <tr>\n",
       "      <th>2</th>\n",
       "      <td>Opel</td>\n",
       "      <td>1</td>\n",
       "      <td>41356.0</td>\n",
       "      <td>0</td>\n",
       "      <td>2</td>\n",
       "      <td>9.830379</td>\n",
       "    </tr>\n",
       "    <tr>\n",
       "      <th>3</th>\n",
       "      <td>Opel</td>\n",
       "      <td>0</td>\n",
       "      <td>11.0</td>\n",
       "      <td>1</td>\n",
       "      <td>1</td>\n",
       "      <td>10.030120</td>\n",
       "    </tr>\n",
       "    <tr>\n",
       "      <th>5</th>\n",
       "      <td>Opel</td>\n",
       "      <td>0</td>\n",
       "      <td>51390.0</td>\n",
       "      <td>1</td>\n",
       "      <td>2</td>\n",
       "      <td>9.809177</td>\n",
       "    </tr>\n",
       "  </tbody>\n",
       "</table>\n",
       "</div>"
      ],
      "text/plain": [
       "   make  fuel      kms  shift  antiguedad  precio_escalado\n",
       "0  Opel     0      5.0      1           1        10.038892\n",
       "1  Opel     0  24847.0      1           1         9.902987\n",
       "2  Opel     1  41356.0      0           2         9.830379\n",
       "3  Opel     0     11.0      1           1        10.030120\n",
       "5  Opel     0  51390.0      1           2         9.809177"
      ]
     },
     "execution_count": 46,
     "metadata": {},
     "output_type": "execute_result"
    }
   ],
   "source": [
    "df_acotado.head()"
   ]
  },
  {
   "cell_type": "markdown",
   "id": "0345f93e",
   "metadata": {},
   "source": [
    "#### Hacemos un cluster de los datos para tener perspectiva de la distribución"
   ]
  },
  {
   "cell_type": "code",
   "execution_count": 47,
   "id": "4ec8e61a",
   "metadata": {},
   "outputs": [],
   "source": [
    "from sklearn.cluster import KMeans\n",
    "from sklearn.metrics import precision_score\n",
    "from sklearn.decomposition import PCA"
   ]
  },
  {
   "cell_type": "code",
   "execution_count": 49,
   "id": "a8e9df4d",
   "metadata": {},
   "outputs": [],
   "source": [
    "df_acotado_one_hot = pd.get_dummies(df_acotado[['make','fuel','kms','precio_escalado','antiguedad','shift']], dtype=int)"
   ]
  },
  {
   "cell_type": "code",
   "execution_count": 50,
   "id": "22796f84",
   "metadata": {},
   "outputs": [
    {
     "data": {
      "text/plain": [
       "(11656, 71)"
      ]
     },
     "execution_count": 50,
     "metadata": {},
     "output_type": "execute_result"
    }
   ],
   "source": [
    "df_acotado_one_hot.shape"
   ]
  },
  {
   "cell_type": "code",
   "execution_count": 51,
   "id": "53ac4ff3",
   "metadata": {},
   "outputs": [
    {
     "data": {
      "text/plain": [
       "(11656, 6)"
      ]
     },
     "execution_count": 51,
     "metadata": {},
     "output_type": "execute_result"
    }
   ],
   "source": [
    "df_acotado.shape"
   ]
  },
  {
   "cell_type": "code",
   "execution_count": null,
   "id": "2773d796",
   "metadata": {},
   "outputs": [],
   "source": []
  },
  {
   "cell_type": "code",
   "execution_count": null,
   "id": "aedbeff3",
   "metadata": {},
   "outputs": [],
   "source": [
    "#Ponerrrrr seleccion del numero de cluster "
   ]
  },
  {
   "cell_type": "markdown",
   "id": "eade2fad",
   "metadata": {},
   "source": [
    "#### Estudio de los posibles clusters en el dataset"
   ]
  },
  {
   "cell_type": "code",
   "execution_count": 70,
   "id": "30574f4a",
   "metadata": {},
   "outputs": [],
   "source": [
    "from sklearn.cluster import HDBSCAN\n",
    "from sklearn.preprocessing import StandardScaler"
   ]
  },
  {
   "cell_type": "code",
   "execution_count": 71,
   "id": "2a971b43",
   "metadata": {},
   "outputs": [],
   "source": [
    "np_aux2 = StandardScaler().fit_transform(df_acotado_one_hot)\n",
    "\n",
    "hdb = HDBSCAN(min_cluster_size=530).fit(np_aux2)\n",
    "\n",
    "df_acotado_one_hot['hdb_labels'] = hdb.labels_"
   ]
  },
  {
   "cell_type": "code",
   "execution_count": 72,
   "id": "c8be0d0f",
   "metadata": {},
   "outputs": [
    {
     "data": {
      "text/plain": [
       "Text(0.5, 0, 'Precio en escala logaritmica')"
      ]
     },
     "execution_count": 72,
     "metadata": {},
     "output_type": "execute_result"
    },
    {
     "data": {
      "image/png": "[encoded data removed]",
      "text/plain": [
       "<Figure size 640x480 with 1 Axes>"
      ]
     },
     "metadata": {},
     "output_type": "display_data"
    }
   ],
   "source": [
    "plt.scatter(df_acotado_one_hot['precio_escalado'],\n",
    "                df_acotado_one_hot['antiguedad'],\n",
    "                c=df_acotado_one_hot['hdb_labels'],\n",
    "                cmap='brg',\n",
    "                s=14)\n",
    "\n",
    "plt.ylabel('Antiguedad')\n",
    "plt.xlabel('Precio en escala logaritmica')"
   ]
  },
  {
   "cell_type": "markdown",
   "id": "a1e73706",
   "metadata": {},
   "source": [
    "Conclusión: \n",
    "\n",
    "- Se puede apreciar un grupo de vehiculos con menor varianza,  y menor antiguedad media (verde).\n",
    "    \n",
    "- Además podemos ver valores atípicos como un coche con más  de 50 años y con un valor bastante alto que ha reslutado ser un porche 911 (azul)."
   ]
  },
  {
   "cell_type": "code",
   "execution_count": 53,
   "id": "07b2776f",
   "metadata": {},
   "outputs": [
    {
     "data": {
      "text/html": [
       "<div>\n",
       "<style scoped>\n",
       "    .dataframe tbody tr th:only-of-type {\n",
       "        vertical-align: middle;\n",
       "    }\n",
       "\n",
       "    .dataframe tbody tr th {\n",
       "        vertical-align: top;\n",
       "    }\n",
       "\n",
       "    .dataframe thead th {\n",
       "        text-align: right;\n",
       "    }\n",
       "</style>\n",
       "<table border=\"1\" class=\"dataframe\">\n",
       "  <thead>\n",
       "    <tr style=\"text-align: right;\">\n",
       "      <th></th>\n",
       "      <th>make</th>\n",
       "      <th>fuel</th>\n",
       "      <th>kms</th>\n",
       "      <th>shift</th>\n",
       "      <th>antiguedad</th>\n",
       "      <th>precio_escalado</th>\n",
       "    </tr>\n",
       "  </thead>\n",
       "  <tbody>\n",
       "    <tr>\n",
       "      <th>46234</th>\n",
       "      <td>Porsche</td>\n",
       "      <td>0</td>\n",
       "      <td>51000.0</td>\n",
       "      <td>1</td>\n",
       "      <td>56</td>\n",
       "      <td>11.154821</td>\n",
       "    </tr>\n",
       "  </tbody>\n",
       "</table>\n",
       "</div>"
      ],
      "text/plain": [
       "          make  fuel      kms  shift  antiguedad  precio_escalado\n",
       "46234  Porsche     0  51000.0      1          56        11.154821"
      ]
     },
     "execution_count": 53,
     "metadata": {},
     "output_type": "execute_result"
    }
   ],
   "source": [
    "df_acotado[df_acotado.antiguedad > 50]"
   ]
  },
  {
   "cell_type": "code",
   "execution_count": 54,
   "id": "37f4a058",
   "metadata": {},
   "outputs": [],
   "source": [
    "from sklearn.cluster import KMeans\n",
    "from sklearn.metrics import precision_score\n",
    "from sklearn.preprocessing import StandardScaler"
   ]
  },
  {
   "cell_type": "code",
   "execution_count": null,
   "id": "1b33b5aa",
   "metadata": {
    "scrolled": false
   },
   "outputs": [],
   "source": [
    "\n",
    "'''''\n",
    "df_acotado_para_modelo = pd.get_dummies(df_acotado)\n",
    "\n",
    "df_acotado_para_modelo_escalado = StandardScaler().fit_transform(df_acotado_para_modelo)\n",
    "\n",
    "plt.figure(figsize=(14, 14))\n",
    "\n",
    "for k in range(2,6):\n",
    "    kmeans = KMeans(n_clusters=k, random_state=42, n_init=\"auto\").fit(df_acotado_para_modelo_escalado)\n",
    "    df_acotado_para_modelo_escalado['kmeans_labels'] = kmeans.labels_  \n",
    "    plt.subplot(2,2,k-1)  \n",
    "    plt.scatter(df_acotado_para_modelo_escalado['precio_normalizado'],\n",
    "                df_acotado_para_modelo_escalado['antiguedad'],\n",
    "                c=df_acotado_para_modelo_escalado['kmeans_labels'],\n",
    "                cmap='brg',\n",
    "                s=14)\n",
    "    plt.title(f'K = {k}')\n",
    "    plt.xlabel('precio_normalizado')\n",
    "    plt.ylabel('Antiguedad')'''''"
   ]
  },
  {
   "cell_type": "markdown",
   "id": "37563419",
   "metadata": {},
   "source": [
    "# Modelo Machine Learning\n"
   ]
  },
  {
   "cell_type": "code",
   "execution_count": null,
   "id": "612520fa",
   "metadata": {},
   "outputs": [],
   "source": [
    "##### SEPARAR LAS VARIABLES FUEL Y SHIFT ANTES DE HACEER EL SCALER PARA NO METER RUDIO Y UNIRLAS DESPUES \n",
    "### OPTATIVO "
   ]
  },
  {
   "cell_type": "code",
   "execution_count": 55,
   "id": "0b03247c",
   "metadata": {},
   "outputs": [
    {
     "data": {
      "text/html": [
       "<div>\n",
       "<style scoped>\n",
       "    .dataframe tbody tr th:only-of-type {\n",
       "        vertical-align: middle;\n",
       "    }\n",
       "\n",
       "    .dataframe tbody tr th {\n",
       "        vertical-align: top;\n",
       "    }\n",
       "\n",
       "    .dataframe thead th {\n",
       "        text-align: right;\n",
       "    }\n",
       "</style>\n",
       "<table border=\"1\" class=\"dataframe\">\n",
       "  <thead>\n",
       "    <tr style=\"text-align: right;\">\n",
       "      <th></th>\n",
       "      <th>fuel</th>\n",
       "      <th>kms</th>\n",
       "      <th>antiguedad</th>\n",
       "      <th>shift</th>\n",
       "      <th>make_Abarth</th>\n",
       "      <th>make_Alfa Romeo</th>\n",
       "      <th>make_Alpine</th>\n",
       "      <th>make_Aston Martin</th>\n",
       "      <th>make_Audi</th>\n",
       "      <th>make_BMW</th>\n",
       "      <th>...</th>\n",
       "      <th>make_Skoda</th>\n",
       "      <th>make_SsangYong</th>\n",
       "      <th>make_Subaru</th>\n",
       "      <th>make_Suzuki</th>\n",
       "      <th>make_Tata</th>\n",
       "      <th>make_Tesla</th>\n",
       "      <th>make_Toyota</th>\n",
       "      <th>make_VAZ</th>\n",
       "      <th>make_Volkswagen</th>\n",
       "      <th>make_Volvo</th>\n",
       "    </tr>\n",
       "  </thead>\n",
       "  <tbody>\n",
       "    <tr>\n",
       "      <th>0</th>\n",
       "      <td>0</td>\n",
       "      <td>5.0</td>\n",
       "      <td>1</td>\n",
       "      <td>1</td>\n",
       "      <td>0</td>\n",
       "      <td>0</td>\n",
       "      <td>0</td>\n",
       "      <td>0</td>\n",
       "      <td>0</td>\n",
       "      <td>0</td>\n",
       "      <td>...</td>\n",
       "      <td>0</td>\n",
       "      <td>0</td>\n",
       "      <td>0</td>\n",
       "      <td>0</td>\n",
       "      <td>0</td>\n",
       "      <td>0</td>\n",
       "      <td>0</td>\n",
       "      <td>0</td>\n",
       "      <td>0</td>\n",
       "      <td>0</td>\n",
       "    </tr>\n",
       "    <tr>\n",
       "      <th>1</th>\n",
       "      <td>0</td>\n",
       "      <td>24847.0</td>\n",
       "      <td>1</td>\n",
       "      <td>1</td>\n",
       "      <td>0</td>\n",
       "      <td>0</td>\n",
       "      <td>0</td>\n",
       "      <td>0</td>\n",
       "      <td>0</td>\n",
       "      <td>0</td>\n",
       "      <td>...</td>\n",
       "      <td>0</td>\n",
       "      <td>0</td>\n",
       "      <td>0</td>\n",
       "      <td>0</td>\n",
       "      <td>0</td>\n",
       "      <td>0</td>\n",
       "      <td>0</td>\n",
       "      <td>0</td>\n",
       "      <td>0</td>\n",
       "      <td>0</td>\n",
       "    </tr>\n",
       "    <tr>\n",
       "      <th>2</th>\n",
       "      <td>1</td>\n",
       "      <td>41356.0</td>\n",
       "      <td>2</td>\n",
       "      <td>0</td>\n",
       "      <td>0</td>\n",
       "      <td>0</td>\n",
       "      <td>0</td>\n",
       "      <td>0</td>\n",
       "      <td>0</td>\n",
       "      <td>0</td>\n",
       "      <td>...</td>\n",
       "      <td>0</td>\n",
       "      <td>0</td>\n",
       "      <td>0</td>\n",
       "      <td>0</td>\n",
       "      <td>0</td>\n",
       "      <td>0</td>\n",
       "      <td>0</td>\n",
       "      <td>0</td>\n",
       "      <td>0</td>\n",
       "      <td>0</td>\n",
       "    </tr>\n",
       "    <tr>\n",
       "      <th>3</th>\n",
       "      <td>0</td>\n",
       "      <td>11.0</td>\n",
       "      <td>1</td>\n",
       "      <td>1</td>\n",
       "      <td>0</td>\n",
       "      <td>0</td>\n",
       "      <td>0</td>\n",
       "      <td>0</td>\n",
       "      <td>0</td>\n",
       "      <td>0</td>\n",
       "      <td>...</td>\n",
       "      <td>0</td>\n",
       "      <td>0</td>\n",
       "      <td>0</td>\n",
       "      <td>0</td>\n",
       "      <td>0</td>\n",
       "      <td>0</td>\n",
       "      <td>0</td>\n",
       "      <td>0</td>\n",
       "      <td>0</td>\n",
       "      <td>0</td>\n",
       "    </tr>\n",
       "    <tr>\n",
       "      <th>5</th>\n",
       "      <td>0</td>\n",
       "      <td>51390.0</td>\n",
       "      <td>2</td>\n",
       "      <td>1</td>\n",
       "      <td>0</td>\n",
       "      <td>0</td>\n",
       "      <td>0</td>\n",
       "      <td>0</td>\n",
       "      <td>0</td>\n",
       "      <td>0</td>\n",
       "      <td>...</td>\n",
       "      <td>0</td>\n",
       "      <td>0</td>\n",
       "      <td>0</td>\n",
       "      <td>0</td>\n",
       "      <td>0</td>\n",
       "      <td>0</td>\n",
       "      <td>0</td>\n",
       "      <td>0</td>\n",
       "      <td>0</td>\n",
       "      <td>0</td>\n",
       "    </tr>\n",
       "    <tr>\n",
       "      <th>...</th>\n",
       "      <td>...</td>\n",
       "      <td>...</td>\n",
       "      <td>...</td>\n",
       "      <td>...</td>\n",
       "      <td>...</td>\n",
       "      <td>...</td>\n",
       "      <td>...</td>\n",
       "      <td>...</td>\n",
       "      <td>...</td>\n",
       "      <td>...</td>\n",
       "      <td>...</td>\n",
       "      <td>...</td>\n",
       "      <td>...</td>\n",
       "      <td>...</td>\n",
       "      <td>...</td>\n",
       "      <td>...</td>\n",
       "      <td>...</td>\n",
       "      <td>...</td>\n",
       "      <td>...</td>\n",
       "      <td>...</td>\n",
       "      <td>...</td>\n",
       "    </tr>\n",
       "    <tr>\n",
       "      <th>99931</th>\n",
       "      <td>1</td>\n",
       "      <td>71330.0</td>\n",
       "      <td>6</td>\n",
       "      <td>1</td>\n",
       "      <td>0</td>\n",
       "      <td>0</td>\n",
       "      <td>0</td>\n",
       "      <td>0</td>\n",
       "      <td>0</td>\n",
       "      <td>0</td>\n",
       "      <td>...</td>\n",
       "      <td>0</td>\n",
       "      <td>0</td>\n",
       "      <td>0</td>\n",
       "      <td>0</td>\n",
       "      <td>0</td>\n",
       "      <td>0</td>\n",
       "      <td>0</td>\n",
       "      <td>0</td>\n",
       "      <td>0</td>\n",
       "      <td>0</td>\n",
       "    </tr>\n",
       "    <tr>\n",
       "      <th>99947</th>\n",
       "      <td>1</td>\n",
       "      <td>109350.0</td>\n",
       "      <td>9</td>\n",
       "      <td>1</td>\n",
       "      <td>0</td>\n",
       "      <td>0</td>\n",
       "      <td>0</td>\n",
       "      <td>0</td>\n",
       "      <td>0</td>\n",
       "      <td>0</td>\n",
       "      <td>...</td>\n",
       "      <td>0</td>\n",
       "      <td>0</td>\n",
       "      <td>0</td>\n",
       "      <td>0</td>\n",
       "      <td>0</td>\n",
       "      <td>0</td>\n",
       "      <td>0</td>\n",
       "      <td>0</td>\n",
       "      <td>0</td>\n",
       "      <td>0</td>\n",
       "    </tr>\n",
       "    <tr>\n",
       "      <th>99948</th>\n",
       "      <td>0</td>\n",
       "      <td>108697.0</td>\n",
       "      <td>6</td>\n",
       "      <td>1</td>\n",
       "      <td>0</td>\n",
       "      <td>0</td>\n",
       "      <td>0</td>\n",
       "      <td>0</td>\n",
       "      <td>0</td>\n",
       "      <td>0</td>\n",
       "      <td>...</td>\n",
       "      <td>0</td>\n",
       "      <td>0</td>\n",
       "      <td>0</td>\n",
       "      <td>0</td>\n",
       "      <td>0</td>\n",
       "      <td>0</td>\n",
       "      <td>0</td>\n",
       "      <td>0</td>\n",
       "      <td>0</td>\n",
       "      <td>0</td>\n",
       "    </tr>\n",
       "    <tr>\n",
       "      <th>99996</th>\n",
       "      <td>1</td>\n",
       "      <td>173035.0</td>\n",
       "      <td>10</td>\n",
       "      <td>0</td>\n",
       "      <td>0</td>\n",
       "      <td>0</td>\n",
       "      <td>0</td>\n",
       "      <td>0</td>\n",
       "      <td>0</td>\n",
       "      <td>0</td>\n",
       "      <td>...</td>\n",
       "      <td>0</td>\n",
       "      <td>0</td>\n",
       "      <td>0</td>\n",
       "      <td>0</td>\n",
       "      <td>0</td>\n",
       "      <td>0</td>\n",
       "      <td>0</td>\n",
       "      <td>0</td>\n",
       "      <td>0</td>\n",
       "      <td>0</td>\n",
       "    </tr>\n",
       "    <tr>\n",
       "      <th>99998</th>\n",
       "      <td>1</td>\n",
       "      <td>178131.0</td>\n",
       "      <td>11</td>\n",
       "      <td>1</td>\n",
       "      <td>0</td>\n",
       "      <td>0</td>\n",
       "      <td>0</td>\n",
       "      <td>0</td>\n",
       "      <td>0</td>\n",
       "      <td>0</td>\n",
       "      <td>...</td>\n",
       "      <td>0</td>\n",
       "      <td>0</td>\n",
       "      <td>0</td>\n",
       "      <td>0</td>\n",
       "      <td>0</td>\n",
       "      <td>0</td>\n",
       "      <td>0</td>\n",
       "      <td>0</td>\n",
       "      <td>0</td>\n",
       "      <td>0</td>\n",
       "    </tr>\n",
       "  </tbody>\n",
       "</table>\n",
       "<p>11656 rows × 70 columns</p>\n",
       "</div>"
      ],
      "text/plain": [
       "       fuel       kms  antiguedad  shift  make_Abarth  make_Alfa Romeo  \\\n",
       "0         0       5.0           1      1            0                0   \n",
       "1         0   24847.0           1      1            0                0   \n",
       "2         1   41356.0           2      0            0                0   \n",
       "3         0      11.0           1      1            0                0   \n",
       "5         0   51390.0           2      1            0                0   \n",
       "...     ...       ...         ...    ...          ...              ...   \n",
       "99931     1   71330.0           6      1            0                0   \n",
       "99947     1  109350.0           9      1            0                0   \n",
       "99948     0  108697.0           6      1            0                0   \n",
       "99996     1  173035.0          10      0            0                0   \n",
       "99998     1  178131.0          11      1            0                0   \n",
       "\n",
       "       make_Alpine  make_Aston Martin  make_Audi  make_BMW  ...  make_Skoda  \\\n",
       "0                0                  0          0         0  ...           0   \n",
       "1                0                  0          0         0  ...           0   \n",
       "2                0                  0          0         0  ...           0   \n",
       "3                0                  0          0         0  ...           0   \n",
       "5                0                  0          0         0  ...           0   \n",
       "...            ...                ...        ...       ...  ...         ...   \n",
       "99931            0                  0          0         0  ...           0   \n",
       "99947            0                  0          0         0  ...           0   \n",
       "99948            0                  0          0         0  ...           0   \n",
       "99996            0                  0          0         0  ...           0   \n",
       "99998            0                  0          0         0  ...           0   \n",
       "\n",
       "       make_SsangYong  make_Subaru  make_Suzuki  make_Tata  make_Tesla  \\\n",
       "0                   0            0            0          0           0   \n",
       "1                   0            0            0          0           0   \n",
       "2                   0            0            0          0           0   \n",
       "3                   0            0            0          0           0   \n",
       "5                   0            0            0          0           0   \n",
       "...               ...          ...          ...        ...         ...   \n",
       "99931               0            0            0          0           0   \n",
       "99947               0            0            0          0           0   \n",
       "99948               0            0            0          0           0   \n",
       "99996               0            0            0          0           0   \n",
       "99998               0            0            0          0           0   \n",
       "\n",
       "       make_Toyota  make_VAZ  make_Volkswagen  make_Volvo  \n",
       "0                0         0                0           0  \n",
       "1                0         0                0           0  \n",
       "2                0         0                0           0  \n",
       "3                0         0                0           0  \n",
       "5                0         0                0           0  \n",
       "...            ...       ...              ...         ...  \n",
       "99931            0         0                0           0  \n",
       "99947            0         0                0           0  \n",
       "99948            0         0                0           0  \n",
       "99996            0         0                0           0  \n",
       "99998            0         0                0           0  \n",
       "\n",
       "[11656 rows x 70 columns]"
      ]
     },
     "execution_count": 55,
     "metadata": {},
     "output_type": "execute_result"
    }
   ],
   "source": [
    "#Split X e Y\n",
    "\n",
    "X = df_acotado_one_hot.drop([\"precio_escalado\",'hdb_labels'], axis=1)\n",
    "y = df_acotado_one_hot.precio_escalado\n",
    "\n",
    "X"
   ]
  },
  {
   "cell_type": "code",
   "execution_count": 57,
   "id": "88748bfd",
   "metadata": {},
   "outputs": [],
   "source": [
    "#Split train y test\n",
    "\n",
    "from sklearn.model_selection import train_test_split\n",
    "\n",
    "X_train, X_test, y_train, y_test = train_test_split(X,y, test_size=0.25)"
   ]
  },
  {
   "cell_type": "code",
   "execution_count": 58,
   "id": "8e53ef30",
   "metadata": {},
   "outputs": [
    {
     "data": {
      "text/html": [
       "<style>#sk-container-id-1 {color: black;}#sk-container-id-1 pre{padding: 0;}#sk-container-id-1 div.sk-toggleable {background-color: white;}#sk-container-id-1 label.sk-toggleable__label {cursor: pointer;display: block;width: 100%;margin-bottom: 0;padding: 0.3em;box-sizing: border-box;text-align: center;}#sk-container-id-1 label.sk-toggleable__label-arrow:before {content: \"▸\";float: left;margin-right: 0.25em;color: #696969;}#sk-container-id-1 label.sk-toggleable__label-arrow:hover:before {color: black;}#sk-container-id-1 div.sk-estimator:hover label.sk-toggleable__label-arrow:before {color: black;}#sk-container-id-1 div.sk-toggleable__content {max-height: 0;max-width: 0;overflow: hidden;text-align: left;background-color: #f0f8ff;}#sk-container-id-1 div.sk-toggleable__content pre {margin: 0.2em;color: black;border-radius: 0.25em;background-color: #f0f8ff;}#sk-container-id-1 input.sk-toggleable__control:checked~div.sk-toggleable__content {max-height: 200px;max-width: 100%;overflow: auto;}#sk-container-id-1 input.sk-toggleable__control:checked~label.sk-toggleable__label-arrow:before {content: \"▾\";}#sk-container-id-1 div.sk-estimator input.sk-toggleable__control:checked~label.sk-toggleable__label {background-color: #d4ebff;}#sk-container-id-1 div.sk-label input.sk-toggleable__control:checked~label.sk-toggleable__label {background-color: #d4ebff;}#sk-container-id-1 input.sk-hidden--visually {border: 0;clip: rect(1px 1px 1px 1px);clip: rect(1px, 1px, 1px, 1px);height: 1px;margin: -1px;overflow: hidden;padding: 0;position: absolute;width: 1px;}#sk-container-id-1 div.sk-estimator {font-family: monospace;background-color: #f0f8ff;border: 1px dotted black;border-radius: 0.25em;box-sizing: border-box;margin-bottom: 0.5em;}#sk-container-id-1 div.sk-estimator:hover {background-color: #d4ebff;}#sk-container-id-1 div.sk-parallel-item::after {content: \"\";width: 100%;border-bottom: 1px solid gray;flex-grow: 1;}#sk-container-id-1 div.sk-label:hover label.sk-toggleable__label {background-color: #d4ebff;}#sk-container-id-1 div.sk-serial::before {content: \"\";position: absolute;border-left: 1px solid gray;box-sizing: border-box;top: 0;bottom: 0;left: 50%;z-index: 0;}#sk-container-id-1 div.sk-serial {display: flex;flex-direction: column;align-items: center;background-color: white;padding-right: 0.2em;padding-left: 0.2em;position: relative;}#sk-container-id-1 div.sk-item {position: relative;z-index: 1;}#sk-container-id-1 div.sk-parallel {display: flex;align-items: stretch;justify-content: center;background-color: white;position: relative;}#sk-container-id-1 div.sk-item::before, #sk-container-id-1 div.sk-parallel-item::before {content: \"\";position: absolute;border-left: 1px solid gray;box-sizing: border-box;top: 0;bottom: 0;left: 50%;z-index: -1;}#sk-container-id-1 div.sk-parallel-item {display: flex;flex-direction: column;z-index: 1;position: relative;background-color: white;}#sk-container-id-1 div.sk-parallel-item:first-child::after {align-self: flex-end;width: 50%;}#sk-container-id-1 div.sk-parallel-item:last-child::after {align-self: flex-start;width: 50%;}#sk-container-id-1 div.sk-parallel-item:only-child::after {width: 0;}#sk-container-id-1 div.sk-dashed-wrapped {border: 1px dashed gray;margin: 0 0.4em 0.5em 0.4em;box-sizing: border-box;padding-bottom: 0.4em;background-color: white;}#sk-container-id-1 div.sk-label label {font-family: monospace;font-weight: bold;display: inline-block;line-height: 1.2em;}#sk-container-id-1 div.sk-label-container {text-align: center;}#sk-container-id-1 div.sk-container {/* jupyter's `normalize.less` sets `[hidden] { display: none; }` but bootstrap.min.css set `[hidden] { display: none !important; }` so we also need the `!important` here to be able to override the default hidden behavior on the sphinx rendered scikit-learn.org. See: https://github.com/scikit-learn/scikit-learn/issues/21755 */display: inline-block !important;position: relative;}#sk-container-id-1 div.sk-text-repr-fallback {display: none;}</style><div id=\"sk-container-id-1\" class=\"sk-top-container\"><div class=\"sk-text-repr-fallback\"><pre>XGBRegressor(base_score=None, booster=None, callbacks=None,\n",
       "             colsample_bylevel=None, colsample_bynode=None,\n",
       "             colsample_bytree=None, early_stopping_rounds=None,\n",
       "             enable_categorical=False, eval_metric=None, feature_types=None,\n",
       "             gamma=None, gpu_id=None, grow_policy=None, importance_type=None,\n",
       "             interaction_constraints=None, learning_rate=None, max_bin=None,\n",
       "             max_cat_threshold=None, max_cat_to_onehot=None,\n",
       "             max_delta_step=None, max_depth=None, max_leaves=None,\n",
       "             min_child_weight=None, missing=nan, monotone_constraints=None,\n",
       "             n_estimators=100, n_jobs=None, num_parallel_tree=None,\n",
       "             predictor=None, random_state=None, ...)</pre><b>In a Jupyter environment, please rerun this cell to show the HTML representation or trust the notebook. <br />On GitHub, the HTML representation is unable to render, please try loading this page with nbviewer.org.</b></div><div class=\"sk-container\" hidden><div class=\"sk-item\"><div class=\"sk-estimator sk-toggleable\"><input class=\"sk-toggleable__control sk-hidden--visually\" id=\"sk-estimator-id-1\" type=\"checkbox\" checked><label for=\"sk-estimator-id-1\" class=\"sk-toggleable__label sk-toggleable__label-arrow\">XGBRegressor</label><div class=\"sk-toggleable__content\"><pre>XGBRegressor(base_score=None, booster=None, callbacks=None,\n",
       "             colsample_bylevel=None, colsample_bynode=None,\n",
       "             colsample_bytree=None, early_stopping_rounds=None,\n",
       "             enable_categorical=False, eval_metric=None, feature_types=None,\n",
       "             gamma=None, gpu_id=None, grow_policy=None, importance_type=None,\n",
       "             interaction_constraints=None, learning_rate=None, max_bin=None,\n",
       "             max_cat_threshold=None, max_cat_to_onehot=None,\n",
       "             max_delta_step=None, max_depth=None, max_leaves=None,\n",
       "             min_child_weight=None, missing=nan, monotone_constraints=None,\n",
       "             n_estimators=100, n_jobs=None, num_parallel_tree=None,\n",
       "             predictor=None, random_state=None, ...)</pre></div></div></div></div></div>"
      ],
      "text/plain": [
       "XGBRegressor(base_score=None, booster=None, callbacks=None,\n",
       "             colsample_bylevel=None, colsample_bynode=None,\n",
       "             colsample_bytree=None, early_stopping_rounds=None,\n",
       "             enable_categorical=False, eval_metric=None, feature_types=None,\n",
       "             gamma=None, gpu_id=None, grow_policy=None, importance_type=None,\n",
       "             interaction_constraints=None, learning_rate=None, max_bin=None,\n",
       "             max_cat_threshold=None, max_cat_to_onehot=None,\n",
       "             max_delta_step=None, max_depth=None, max_leaves=None,\n",
       "             min_child_weight=None, missing=nan, monotone_constraints=None,\n",
       "             n_estimators=100, n_jobs=None, num_parallel_tree=None,\n",
       "             predictor=None, random_state=None, ...)"
      ]
     },
     "execution_count": 58,
     "metadata": {},
     "output_type": "execute_result"
    }
   ],
   "source": [
    "#Entrenamos modelo regresivo\n",
    "\n",
    "from xgboost import XGBRegressor \n",
    "clf = XGBRegressor()\n",
    "clf.fit(X_train, y_train)\n"
   ]
  },
  {
   "cell_type": "code",
   "execution_count": 59,
   "id": "3eb82071",
   "metadata": {},
   "outputs": [],
   "source": [
    "#Funcion interactiva\n",
    "\n",
    "y_pred = clf.predict(X_test)"
   ]
  },
  {
   "cell_type": "code",
   "execution_count": 60,
   "id": "de6602e7",
   "metadata": {
    "scrolled": true
   },
   "outputs": [
    {
     "data": {
      "text/plain": [
       "0.2452606438746676"
      ]
     },
     "execution_count": 60,
     "metadata": {},
     "output_type": "execute_result"
    }
   ],
   "source": [
    "#Metricas modelo\n",
    "\n",
    "from sklearn.metrics import mean_absolute_error, mean_squared_error\n",
    "\n",
    "mae = mean_absolute_error(y_test, y_pred)\n",
    "mae"
   ]
  },
  {
   "cell_type": "code",
   "execution_count": 61,
   "id": "6129e251",
   "metadata": {},
   "outputs": [],
   "source": [
    "import streamlit as st \n",
    "import pickle\n",
    "import joblib"
   ]
  },
  {
   "cell_type": "code",
   "execution_count": null,
   "id": "7b69674d",
   "metadata": {},
   "outputs": [],
   "source": [
    "#save the model to disk pickle\n",
    "model = clf \n",
    "\n",
    "modelo_exp_pickle = 'modelo_exp_pickle.sav'\n",
    "pickle.dump(model, open(modelo_exp_pickle, 'wb'))"
   ]
  },
  {
   "cell_type": "code",
   "execution_count": null,
   "id": "a8f784e9",
   "metadata": {},
   "outputs": [],
   "source": [
    "#save the model to disk joblib\n",
    "modelo_exp_joblib = 'modelo_exp_joblib.sav'\n",
    "joblib.dump(model, modelo_exp_joblib)"
   ]
  },
  {
   "cell_type": "code",
   "execution_count": 62,
   "id": "c9502fad",
   "metadata": {},
   "outputs": [
    {
     "data": {
      "text/plain": [
       "6.906754778648554"
      ]
     },
     "execution_count": 62,
     "metadata": {},
     "output_type": "execute_result"
    }
   ],
   "source": [
    "y.min()"
   ]
  },
  {
   "cell_type": "code",
   "execution_count": 63,
   "id": "be2384b6",
   "metadata": {},
   "outputs": [
    {
     "data": {
      "text/plain": [
       "13.11835535600679"
      ]
     },
     "execution_count": 63,
     "metadata": {},
     "output_type": "execute_result"
    }
   ],
   "source": [
    "y.max()"
   ]
  },
  {
   "cell_type": "code",
   "execution_count": 64,
   "id": "03305ee3",
   "metadata": {},
   "outputs": [
    {
     "data": {
      "text/plain": [
       "9.67721410821299"
      ]
     },
     "execution_count": 64,
     "metadata": {},
     "output_type": "execute_result"
    }
   ],
   "source": [
    "np.median(y)"
   ]
  },
  {
   "cell_type": "raw",
   "id": "c8b26cfd",
   "metadata": {},
   "source": [
    "import folium\n",
    "from geopy.geocoders import Nominatim\n",
    "\n",
    "geolocator = Nominatim(user_agent=\"example\")\n",
    "\n",
    "m = folium.Map(location=[location.latitude, location.longitude], zoom_start=6)\n",
    "\n",
    "for index, row in df_aux.iterrows():\n",
    "    location = geolocator.geocode(row['location'])\n",
    "    folium.Marker([location.latitude, location.longitude], popup=row['make']).add_to(m)\n",
    "\n",
    "m.save('map.html')"
   ]
  },
  {
   "cell_type": "code",
   "execution_count": null,
   "id": "4eda28fd",
   "metadata": {},
   "outputs": [],
   "source": []
  },
  {
   "cell_type": "code",
   "execution_count": null,
   "id": "dfbf07d5",
   "metadata": {},
   "outputs": [],
   "source": []
  },
  {
   "cell_type": "code",
   "execution_count": null,
   "id": "23140162",
   "metadata": {},
   "outputs": [],
   "source": []
  },
  {
   "cell_type": "code",
   "execution_count": null,
   "id": "2df89011",
   "metadata": {},
   "outputs": [],
   "source": []
  }
 ],
 "metadata": {
  "kernelspec": {
   "display_name": "Python 3 (ipykernel)",
   "language": "python",
   "name": "python3"
  },
  "language_info": {
   "codemirror_mode": {
    "name": "ipython",
    "version": 3
   },
   "file_extension": ".py",
   "mimetype": "text/x-python",
   "name": "python",
   "nbconvert_exporter": "python",
   "pygments_lexer": "ipython3",
   "version": "3.10.9"
  }
 },
 "nbformat": 4,
 "nbformat_minor": 5
}
